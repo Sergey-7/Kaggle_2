  {
   "cell_type": "code",
   "execution_count": null,
   "metadata": {},
   "outputs": [],
   "source": []
  },
  {
   "cell_type": "code",
   "execution_count": null,
   "metadata": {},
   "outputs": [],
   "source": []
  },
  {
   "cell_type": "code",
   "execution_count": 1,
   "metadata": {
    "execution": {
     "iopub.execute_input": "2022-02-05T17:40:13.627653Z",
     "iopub.status.busy": "2022-02-05T17:40:13.626456Z",
     "iopub.status.idle": "2022-02-05T17:40:15.184969Z",
     "shell.execute_reply": "2022-02-05T17:40:15.183995Z",
     "shell.execute_reply.started": "2022-02-05T17:23:24.303089Z"
    },
    "papermill": {
     "duration": 1.586274,
     "end_time": "2022-02-05T17:40:15.185130",
     "exception": false,
     "start_time": "2022-02-05T17:40:13.598856",
     "status": "completed"
    },
    "tags": []
   },
   "outputs": [
    {
     "name": "stderr",
     "output_type": "stream",
     "text": [
      "C:\\Users\\Sergey\\Anaconda3\\lib\\site-packages\\sklearn\\ensemble\\weight_boosting.py:29: DeprecationWarning: numpy.core.umath_tests is an internal NumPy module and should not be imported. It will be removed in a future NumPy release.\n",
      "  from numpy.core.umath_tests import inner1d\n"
     ]
    }
   ],
   "source": [
    "import pandas as pd\n",
    "import numpy as np\n",
    "import matplotlib.pyplot as plt\n",
    "\n",
    "from sklearn.preprocessing import OneHotEncoder   #, OrdinalEncoder\n",
    "from sklearn.metrics import mean_absolute_error\n",
    "from sklearn.linear_model import LinearRegression\n",
    "from sklearn.ensemble import RandomForestRegressor\n",
    "from sklearn.model_selection import train_test_split\n",
    "\n",
    "from statsmodels.tsa.deterministic import DeterministicProcess, CalendarFourier\n",
    "from statsmodels.graphics.tsaplots import plot_pacf\n",
    "\n",
    "from xgboost import XGBRegressor"
   ]
  },
  {
   "cell_type": "code",
   "execution_count": 2,
   "metadata": {
    "execution": {
     "iopub.execute_input": "2022-02-05T17:40:15.237216Z",
     "iopub.status.busy": "2022-02-05T17:40:15.236589Z",
     "iopub.status.idle": "2022-02-05T17:40:18.258189Z",
     "shell.execute_reply": "2022-02-05T17:40:18.257487Z",
     "shell.execute_reply.started": "2022-02-05T17:23:25.805727Z"
    },
    "papermill": {
     "duration": 3.048488,
     "end_time": "2022-02-05T17:40:18.258340",
     "exception": false,
     "start_time": "2022-02-05T17:40:15.209852",
     "status": "completed"
    },
    "tags": []
   },
   "outputs": [],
   "source": [
    "df = pd.read_csv(\"./train.csv\", index_col=\"date\", parse_dates=True)\n",
    "X_test = pd.read_csv(\"./test.csv\", index_col=\"date\", parse_dates=True)"
   ]
  },
  {
   "cell_type": "code",
   "execution_count": 3,
   "metadata": {
    "execution": {
     "iopub.execute_input": "2022-02-05T17:40:18.313116Z",
     "iopub.status.busy": "2022-02-05T17:40:18.312179Z",
     "iopub.status.idle": "2022-02-05T17:40:18.335190Z",
     "shell.execute_reply": "2022-02-05T17:40:18.334684Z",
     "shell.execute_reply.started": "2022-02-05T17:23:29.458273Z"
    },
    "papermill": {
     "duration": 0.050851,
     "end_time": "2022-02-05T17:40:18.335319",
     "exception": false,
     "start_time": "2022-02-05T17:40:18.284468",
     "status": "completed"
    },
    "tags": []
   },
   "outputs": [
    {
     "data": {
      "text/html": [
       "<div>\n",
       "<style scoped>\n",
       "    .dataframe tbody tr th:only-of-type {\n",
       "        vertical-align: middle;\n",
       "    }\n",
       "\n",
       "    .dataframe tbody tr th {\n",
       "        vertical-align: top;\n",
       "    }\n",
       "\n",
       "    .dataframe thead th {\n",
       "        text-align: right;\n",
       "    }\n",
       "</style>\n",
       "<table border=\"1\" class=\"dataframe\">\n",
       "  <thead>\n",
       "    <tr style=\"text-align: right;\">\n",
       "      <th></th>\n",
       "      <th>id</th>\n",
       "      <th>store_nbr</th>\n",
       "      <th>family</th>\n",
       "      <th>sales</th>\n",
       "      <th>onpromotion</th>\n",
       "    </tr>\n",
       "    <tr>\n",
       "      <th>date</th>\n",
       "      <th></th>\n",
       "      <th></th>\n",
       "      <th></th>\n",
       "      <th></th>\n",
       "      <th></th>\n",
       "    </tr>\n",
       "  </thead>\n",
       "  <tbody>\n",
       "    <tr>\n",
       "      <th>2013-01-01</th>\n",
       "      <td>0</td>\n",
       "      <td>1</td>\n",
       "      <td>AUTOMOTIVE</td>\n",
       "      <td>0.000</td>\n",
       "      <td>0</td>\n",
       "    </tr>\n",
       "    <tr>\n",
       "      <th>2013-01-01</th>\n",
       "      <td>1</td>\n",
       "      <td>1</td>\n",
       "      <td>BABY CARE</td>\n",
       "      <td>0.000</td>\n",
       "      <td>0</td>\n",
       "    </tr>\n",
       "    <tr>\n",
       "      <th>2013-01-01</th>\n",
       "      <td>2</td>\n",
       "      <td>1</td>\n",
       "      <td>BEAUTY</td>\n",
       "      <td>0.000</td>\n",
       "      <td>0</td>\n",
       "    </tr>\n",
       "    <tr>\n",
       "      <th>2013-01-01</th>\n",
       "      <td>3</td>\n",
       "      <td>1</td>\n",
       "      <td>BEVERAGES</td>\n",
       "      <td>0.000</td>\n",
       "      <td>0</td>\n",
       "    </tr>\n",
       "    <tr>\n",
       "      <th>2013-01-01</th>\n",
       "      <td>4</td>\n",
       "      <td>1</td>\n",
       "      <td>BOOKS</td>\n",
       "      <td>0.000</td>\n",
       "      <td>0</td>\n",
       "    </tr>\n",
       "    <tr>\n",
       "      <th>...</th>\n",
       "      <td>...</td>\n",
       "      <td>...</td>\n",
       "      <td>...</td>\n",
       "      <td>...</td>\n",
       "      <td>...</td>\n",
       "    </tr>\n",
       "    <tr>\n",
       "      <th>2017-08-15</th>\n",
       "      <td>3000883</td>\n",
       "      <td>9</td>\n",
       "      <td>POULTRY</td>\n",
       "      <td>438.133</td>\n",
       "      <td>0</td>\n",
       "    </tr>\n",
       "    <tr>\n",
       "      <th>2017-08-15</th>\n",
       "      <td>3000884</td>\n",
       "      <td>9</td>\n",
       "      <td>PREPARED FOODS</td>\n",
       "      <td>154.553</td>\n",
       "      <td>1</td>\n",
       "    </tr>\n",
       "    <tr>\n",
       "      <th>2017-08-15</th>\n",
       "      <td>3000885</td>\n",
       "      <td>9</td>\n",
       "      <td>PRODUCE</td>\n",
       "      <td>2419.729</td>\n",
       "      <td>148</td>\n",
       "    </tr>\n",
       "    <tr>\n",
       "      <th>2017-08-15</th>\n",
       "      <td>3000886</td>\n",
       "      <td>9</td>\n",
       "      <td>SCHOOL AND OFFICE SUPPLIES</td>\n",
       "      <td>121.000</td>\n",
       "      <td>8</td>\n",
       "    </tr>\n",
       "    <tr>\n",
       "      <th>2017-08-15</th>\n",
       "      <td>3000887</td>\n",
       "      <td>9</td>\n",
       "      <td>SEAFOOD</td>\n",
       "      <td>16.000</td>\n",
       "      <td>0</td>\n",
       "    </tr>\n",
       "  </tbody>\n",
       "</table>\n",
       "<p>3000888 rows × 5 columns</p>\n",
       "</div>"
      ],
      "text/plain": [
       "                 id  store_nbr                      family     sales  \\\n",
       "date                                                                   \n",
       "2013-01-01        0          1                  AUTOMOTIVE     0.000   \n",
       "2013-01-01        1          1                   BABY CARE     0.000   \n",
       "2013-01-01        2          1                      BEAUTY     0.000   \n",
       "2013-01-01        3          1                   BEVERAGES     0.000   \n",
       "2013-01-01        4          1                       BOOKS     0.000   \n",
       "...             ...        ...                         ...       ...   \n",
       "2017-08-15  3000883          9                     POULTRY   438.133   \n",
       "2017-08-15  3000884          9              PREPARED FOODS   154.553   \n",
       "2017-08-15  3000885          9                     PRODUCE  2419.729   \n",
       "2017-08-15  3000886          9  SCHOOL AND OFFICE SUPPLIES   121.000   \n",
       "2017-08-15  3000887          9                     SEAFOOD    16.000   \n",
       "\n",
       "            onpromotion  \n",
       "date                     \n",
       "2013-01-01            0  \n",
       "2013-01-01            0  \n",
       "2013-01-01            0  \n",
       "2013-01-01            0  \n",
       "2013-01-01            0  \n",
       "...                 ...  \n",
       "2017-08-15            0  \n",
       "2017-08-15            1  \n",
       "2017-08-15          148  \n",
       "2017-08-15            8  \n",
       "2017-08-15            0  \n",
       "\n",
       "[3000888 rows x 5 columns]"
      ]
     },
     "execution_count": 3,
     "metadata": {},
     "output_type": "execute_result"
    }
   ],
   "source": [
    "df"
   ]
  },
  {
   "cell_type": "code",
   "execution_count": 4,
   "metadata": {
    "execution": {
     "iopub.execute_input": "2022-02-05T17:40:18.400329Z",
     "iopub.status.busy": "2022-02-05T17:40:18.398009Z",
     "iopub.status.idle": "2022-02-05T17:40:18.403729Z",
     "shell.execute_reply": "2022-02-05T17:40:18.404213Z",
     "shell.execute_reply.started": "2022-02-05T17:23:29.483387Z"
    },
    "papermill": {
     "duration": 0.042374,
     "end_time": "2022-02-05T17:40:18.404380",
     "exception": false,
     "start_time": "2022-02-05T17:40:18.362006",
     "status": "completed"
    },
    "tags": []
   },
   "outputs": [
    {
     "data": {
      "text/html": [
       "<div>\n",
       "<style scoped>\n",
       "    .dataframe tbody tr th:only-of-type {\n",
       "        vertical-align: middle;\n",
       "    }\n",
       "\n",
       "    .dataframe tbody tr th {\n",
       "        vertical-align: top;\n",
       "    }\n",
       "\n",
       "    .dataframe thead th {\n",
       "        text-align: right;\n",
       "    }\n",
       "</style>\n",
       "<table border=\"1\" class=\"dataframe\">\n",
       "  <thead>\n",
       "    <tr style=\"text-align: right;\">\n",
       "      <th></th>\n",
       "      <th>id</th>\n",
       "      <th>store_nbr</th>\n",
       "      <th>family</th>\n",
       "      <th>onpromotion</th>\n",
       "    </tr>\n",
       "    <tr>\n",
       "      <th>date</th>\n",
       "      <th></th>\n",
       "      <th></th>\n",
       "      <th></th>\n",
       "      <th></th>\n",
       "    </tr>\n",
       "  </thead>\n",
       "  <tbody>\n",
       "    <tr>\n",
       "      <th>2017-08-16</th>\n",
       "      <td>3000888</td>\n",
       "      <td>1</td>\n",
       "      <td>AUTOMOTIVE</td>\n",
       "      <td>0</td>\n",
       "    </tr>\n",
       "    <tr>\n",
       "      <th>2017-08-16</th>\n",
       "      <td>3000889</td>\n",
       "      <td>1</td>\n",
       "      <td>BABY CARE</td>\n",
       "      <td>0</td>\n",
       "    </tr>\n",
       "    <tr>\n",
       "      <th>2017-08-16</th>\n",
       "      <td>3000890</td>\n",
       "      <td>1</td>\n",
       "      <td>BEAUTY</td>\n",
       "      <td>2</td>\n",
       "    </tr>\n",
       "    <tr>\n",
       "      <th>2017-08-16</th>\n",
       "      <td>3000891</td>\n",
       "      <td>1</td>\n",
       "      <td>BEVERAGES</td>\n",
       "      <td>20</td>\n",
       "    </tr>\n",
       "    <tr>\n",
       "      <th>2017-08-16</th>\n",
       "      <td>3000892</td>\n",
       "      <td>1</td>\n",
       "      <td>BOOKS</td>\n",
       "      <td>0</td>\n",
       "    </tr>\n",
       "    <tr>\n",
       "      <th>...</th>\n",
       "      <td>...</td>\n",
       "      <td>...</td>\n",
       "      <td>...</td>\n",
       "      <td>...</td>\n",
       "    </tr>\n",
       "    <tr>\n",
       "      <th>2017-08-31</th>\n",
       "      <td>3029395</td>\n",
       "      <td>9</td>\n",
       "      <td>POULTRY</td>\n",
       "      <td>1</td>\n",
       "    </tr>\n",
       "    <tr>\n",
       "      <th>2017-08-31</th>\n",
       "      <td>3029396</td>\n",
       "      <td>9</td>\n",
       "      <td>PREPARED FOODS</td>\n",
       "      <td>0</td>\n",
       "    </tr>\n",
       "    <tr>\n",
       "      <th>2017-08-31</th>\n",
       "      <td>3029397</td>\n",
       "      <td>9</td>\n",
       "      <td>PRODUCE</td>\n",
       "      <td>1</td>\n",
       "    </tr>\n",
       "    <tr>\n",
       "      <th>2017-08-31</th>\n",
       "      <td>3029398</td>\n",
       "      <td>9</td>\n",
       "      <td>SCHOOL AND OFFICE SUPPLIES</td>\n",
       "      <td>9</td>\n",
       "    </tr>\n",
       "    <tr>\n",
       "      <th>2017-08-31</th>\n",
       "      <td>3029399</td>\n",
       "      <td>9</td>\n",
       "      <td>SEAFOOD</td>\n",
       "      <td>0</td>\n",
       "    </tr>\n",
       "  </tbody>\n",
       "</table>\n",
       "<p>28512 rows × 4 columns</p>\n",
       "</div>"
      ],
      "text/plain": [
       "                 id  store_nbr                      family  onpromotion\n",
       "date                                                                   \n",
       "2017-08-16  3000888          1                  AUTOMOTIVE            0\n",
       "2017-08-16  3000889          1                   BABY CARE            0\n",
       "2017-08-16  3000890          1                      BEAUTY            2\n",
       "2017-08-16  3000891          1                   BEVERAGES           20\n",
       "2017-08-16  3000892          1                       BOOKS            0\n",
       "...             ...        ...                         ...          ...\n",
       "2017-08-31  3029395          9                     POULTRY            1\n",
       "2017-08-31  3029396          9              PREPARED FOODS            0\n",
       "2017-08-31  3029397          9                     PRODUCE            1\n",
       "2017-08-31  3029398          9  SCHOOL AND OFFICE SUPPLIES            9\n",
       "2017-08-31  3029399          9                     SEAFOOD            0\n",
       "\n",
       "[28512 rows x 4 columns]"
      ]
     },
     "execution_count": 4,
     "metadata": {},
     "output_type": "execute_result"
    }
   ],
   "source": [
    "X_test"
   ]
  },
  {
   "cell_type": "code",
   "execution_count": 5,
   "metadata": {
    "execution": {
     "iopub.execute_input": "2022-02-05T17:40:18.582102Z",
     "iopub.status.busy": "2022-02-05T17:40:18.581439Z",
     "iopub.status.idle": "2022-02-05T17:40:18.642257Z",
     "shell.execute_reply": "2022-02-05T17:40:18.642688Z",
     "shell.execute_reply.started": "2022-02-05T17:23:29.499785Z"
    },
    "papermill": {
     "duration": 0.210364,
     "end_time": "2022-02-05T17:40:18.642871",
     "exception": false,
     "start_time": "2022-02-05T17:40:18.432507",
     "status": "completed"
    },
    "tags": []
   },
   "outputs": [
    {
     "data": {
      "text/plain": [
       "33"
      ]
     },
     "execution_count": 5,
     "metadata": {},
     "output_type": "execute_result"
    }
   ],
   "source": [
    "family_unique = len(df.family.unique())\n",
    "family_unique"
   ]
  },
  {
   "cell_type": "code",
   "execution_count": 6,
   "metadata": {},
   "outputs": [
    {
     "data": {
      "text/plain": [
       "date\n",
       "2013-01-01      1.409438\n",
       "2013-01-02    278.390807\n",
       "2013-01-03    202.840197\n",
       "2013-01-04    198.911154\n",
       "2013-01-05    267.873244\n",
       "                 ...    \n",
       "2017-08-11    463.733851\n",
       "2017-08-12    444.798280\n",
       "2017-08-13    485.768618\n",
       "2017-08-14    427.004717\n",
       "2017-08-15    427.980884\n",
       "Name: sales, Length: 1684, dtype: float64"
      ]
     },
     "execution_count": 6,
     "metadata": {},
     "output_type": "execute_result"
    }
   ],
   "source": [
    "df.groupby(df.index)[\"sales\"].mean()"
   ]
  },
  {
   "cell_type": "code",
   "execution_count": 7,
   "metadata": {
    "execution": {
     "iopub.execute_input": "2022-02-05T17:40:18.700817Z",
     "iopub.status.busy": "2022-02-05T17:40:18.697356Z",
     "iopub.status.idle": "2022-02-05T17:40:19.086065Z",
     "shell.execute_reply": "2022-02-05T17:40:19.085446Z",
     "shell.execute_reply.started": "2022-02-05T17:23:29.746195Z"
    },
    "papermill": {
     "duration": 0.417111,
     "end_time": "2022-02-05T17:40:19.086204",
     "exception": false,
     "start_time": "2022-02-05T17:40:18.669093",
     "status": "completed"
    },
    "tags": []
   },
   "outputs": [
    {
     "name": "stderr",
     "output_type": "stream",
     "text": [
      "C:\\Users\\Sergey\\Anaconda3\\lib\\site-packages\\pandas\\plotting\\_matplotlib\\converter.py:103: FutureWarning: Using an implicitly registered datetime converter for a matplotlib plotting method. The converter was registered by pandas on import. Future versions of pandas will require you to explicitly register matplotlib converters.\n",
      "\n",
      "To register the converters:\n",
      "\t>>> from pandas.plotting import register_matplotlib_converters\n",
      "\t>>> register_matplotlib_converters()\n",
      "  warnings.warn(msg, FutureWarning)\n"
     ]
    },
    {
     "data": {
      "text/plain": [
       "[<matplotlib.lines.Line2D at 0x1ce86087ef0>]"
      ]
     },
     "execution_count": 7,
     "metadata": {},
     "output_type": "execute_result"
    },
    {
     "data": {
      "image/png": "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\n",
      "text/plain": [
       "<Figure size 432x288 with 1 Axes>"
      ]
     },
     "metadata": {},
     "output_type": "display_data"
    }
   ],
   "source": [
    "plt.plot(df.groupby(df.index)[\"sales\"].mean())"
   ]
  },
  {
   "cell_type": "code",
   "execution_count": 8,
   "metadata": {},
   "outputs": [],
   "source": [
    "df = pd.get_dummies(df, columns=['family'])"
   ]
  },
  {
   "cell_type": "code",
   "execution_count": 9,
   "metadata": {},
   "outputs": [
    {
     "data": {
      "text/html": [
       "<div>\n",
       "<style scoped>\n",
       "    .dataframe tbody tr th:only-of-type {\n",
       "        vertical-align: middle;\n",
       "    }\n",
       "\n",
       "    .dataframe tbody tr th {\n",
       "        vertical-align: top;\n",
       "    }\n",
       "\n",
       "    .dataframe thead th {\n",
       "        text-align: right;\n",
       "    }\n",
       "</style>\n",
       "<table border=\"1\" class=\"dataframe\">\n",
       "  <thead>\n",
       "    <tr style=\"text-align: right;\">\n",
       "      <th></th>\n",
       "      <th>id</th>\n",
       "      <th>store_nbr</th>\n",
       "      <th>sales</th>\n",
       "      <th>onpromotion</th>\n",
       "      <th>family_AUTOMOTIVE</th>\n",
       "      <th>family_BABY CARE</th>\n",
       "      <th>family_BEAUTY</th>\n",
       "      <th>family_BEVERAGES</th>\n",
       "      <th>family_BOOKS</th>\n",
       "      <th>family_BREAD/BAKERY</th>\n",
       "      <th>...</th>\n",
       "      <th>family_MAGAZINES</th>\n",
       "      <th>family_MEATS</th>\n",
       "      <th>family_PERSONAL CARE</th>\n",
       "      <th>family_PET SUPPLIES</th>\n",
       "      <th>family_PLAYERS AND ELECTRONICS</th>\n",
       "      <th>family_POULTRY</th>\n",
       "      <th>family_PREPARED FOODS</th>\n",
       "      <th>family_PRODUCE</th>\n",
       "      <th>family_SCHOOL AND OFFICE SUPPLIES</th>\n",
       "      <th>family_SEAFOOD</th>\n",
       "    </tr>\n",
       "    <tr>\n",
       "      <th>date</th>\n",
       "      <th></th>\n",
       "      <th></th>\n",
       "      <th></th>\n",
       "      <th></th>\n",
       "      <th></th>\n",
       "      <th></th>\n",
       "      <th></th>\n",
       "      <th></th>\n",
       "      <th></th>\n",
       "      <th></th>\n",
       "      <th></th>\n",
       "      <th></th>\n",
       "      <th></th>\n",
       "      <th></th>\n",
       "      <th></th>\n",
       "      <th></th>\n",
       "      <th></th>\n",
       "      <th></th>\n",
       "      <th></th>\n",
       "      <th></th>\n",
       "      <th></th>\n",
       "    </tr>\n",
       "  </thead>\n",
       "  <tbody>\n",
       "    <tr>\n",
       "      <th>2013-01-01</th>\n",
       "      <td>0</td>\n",
       "      <td>1</td>\n",
       "      <td>0.0</td>\n",
       "      <td>0</td>\n",
       "      <td>1</td>\n",
       "      <td>0</td>\n",
       "      <td>0</td>\n",
       "      <td>0</td>\n",
       "      <td>0</td>\n",
       "      <td>0</td>\n",
       "      <td>...</td>\n",
       "      <td>0</td>\n",
       "      <td>0</td>\n",
       "      <td>0</td>\n",
       "      <td>0</td>\n",
       "      <td>0</td>\n",
       "      <td>0</td>\n",
       "      <td>0</td>\n",
       "      <td>0</td>\n",
       "      <td>0</td>\n",
       "      <td>0</td>\n",
       "    </tr>\n",
       "    <tr>\n",
       "      <th>2013-01-01</th>\n",
       "      <td>1</td>\n",
       "      <td>1</td>\n",
       "      <td>0.0</td>\n",
       "      <td>0</td>\n",
       "      <td>0</td>\n",
       "      <td>1</td>\n",
       "      <td>0</td>\n",
       "      <td>0</td>\n",
       "      <td>0</td>\n",
       "      <td>0</td>\n",
       "      <td>...</td>\n",
       "      <td>0</td>\n",
       "      <td>0</td>\n",
       "      <td>0</td>\n",
       "      <td>0</td>\n",
       "      <td>0</td>\n",
       "      <td>0</td>\n",
       "      <td>0</td>\n",
       "      <td>0</td>\n",
       "      <td>0</td>\n",
       "      <td>0</td>\n",
       "    </tr>\n",
       "    <tr>\n",
       "      <th>2013-01-01</th>\n",
       "      <td>2</td>\n",
       "      <td>1</td>\n",
       "      <td>0.0</td>\n",
       "      <td>0</td>\n",
       "      <td>0</td>\n",
       "      <td>0</td>\n",
       "      <td>1</td>\n",
       "      <td>0</td>\n",
       "      <td>0</td>\n",
       "      <td>0</td>\n",
       "      <td>...</td>\n",
       "      <td>0</td>\n",
       "      <td>0</td>\n",
       "      <td>0</td>\n",
       "      <td>0</td>\n",
       "      <td>0</td>\n",
       "      <td>0</td>\n",
       "      <td>0</td>\n",
       "      <td>0</td>\n",
       "      <td>0</td>\n",
       "      <td>0</td>\n",
       "    </tr>\n",
       "    <tr>\n",
       "      <th>2013-01-01</th>\n",
       "      <td>3</td>\n",
       "      <td>1</td>\n",
       "      <td>0.0</td>\n",
       "      <td>0</td>\n",
       "      <td>0</td>\n",
       "      <td>0</td>\n",
       "      <td>0</td>\n",
       "      <td>1</td>\n",
       "      <td>0</td>\n",
       "      <td>0</td>\n",
       "      <td>...</td>\n",
       "      <td>0</td>\n",
       "      <td>0</td>\n",
       "      <td>0</td>\n",
       "      <td>0</td>\n",
       "      <td>0</td>\n",
       "      <td>0</td>\n",
       "      <td>0</td>\n",
       "      <td>0</td>\n",
       "      <td>0</td>\n",
       "      <td>0</td>\n",
       "    </tr>\n",
       "    <tr>\n",
       "      <th>2013-01-01</th>\n",
       "      <td>4</td>\n",
       "      <td>1</td>\n",
       "      <td>0.0</td>\n",
       "      <td>0</td>\n",
       "      <td>0</td>\n",
       "      <td>0</td>\n",
       "      <td>0</td>\n",
       "      <td>0</td>\n",
       "      <td>1</td>\n",
       "      <td>0</td>\n",
       "      <td>...</td>\n",
       "      <td>0</td>\n",
       "      <td>0</td>\n",
       "      <td>0</td>\n",
       "      <td>0</td>\n",
       "      <td>0</td>\n",
       "      <td>0</td>\n",
       "      <td>0</td>\n",
       "      <td>0</td>\n",
       "      <td>0</td>\n",
       "      <td>0</td>\n",
       "    </tr>\n",
       "  </tbody>\n",
       "</table>\n",
       "<p>5 rows × 37 columns</p>\n",
       "</div>"
      ],
      "text/plain": [
       "            id  store_nbr  sales  onpromotion  family_AUTOMOTIVE  \\\n",
       "date                                                               \n",
       "2013-01-01   0          1    0.0            0                  1   \n",
       "2013-01-01   1          1    0.0            0                  0   \n",
       "2013-01-01   2          1    0.0            0                  0   \n",
       "2013-01-01   3          1    0.0            0                  0   \n",
       "2013-01-01   4          1    0.0            0                  0   \n",
       "\n",
       "            family_BABY CARE  family_BEAUTY  family_BEVERAGES  family_BOOKS  \\\n",
       "date                                                                          \n",
       "2013-01-01                 0              0                 0             0   \n",
       "2013-01-01                 1              0                 0             0   \n",
       "2013-01-01                 0              1                 0             0   \n",
       "2013-01-01                 0              0                 1             0   \n",
       "2013-01-01                 0              0                 0             1   \n",
       "\n",
       "            family_BREAD/BAKERY  ...  family_MAGAZINES  family_MEATS  \\\n",
       "date                             ...                                   \n",
       "2013-01-01                    0  ...                 0             0   \n",
       "2013-01-01                    0  ...                 0             0   \n",
       "2013-01-01                    0  ...                 0             0   \n",
       "2013-01-01                    0  ...                 0             0   \n",
       "2013-01-01                    0  ...                 0             0   \n",
       "\n",
       "            family_PERSONAL CARE  family_PET SUPPLIES  \\\n",
       "date                                                    \n",
       "2013-01-01                     0                    0   \n",
       "2013-01-01                     0                    0   \n",
       "2013-01-01                     0                    0   \n",
       "2013-01-01                     0                    0   \n",
       "2013-01-01                     0                    0   \n",
       "\n",
       "            family_PLAYERS AND ELECTRONICS  family_POULTRY  \\\n",
       "date                                                         \n",
       "2013-01-01                               0               0   \n",
       "2013-01-01                               0               0   \n",
       "2013-01-01                               0               0   \n",
       "2013-01-01                               0               0   \n",
       "2013-01-01                               0               0   \n",
       "\n",
       "            family_PREPARED FOODS  family_PRODUCE  \\\n",
       "date                                                \n",
       "2013-01-01                      0               0   \n",
       "2013-01-01                      0               0   \n",
       "2013-01-01                      0               0   \n",
       "2013-01-01                      0               0   \n",
       "2013-01-01                      0               0   \n",
       "\n",
       "            family_SCHOOL AND OFFICE SUPPLIES  family_SEAFOOD  \n",
       "date                                                           \n",
       "2013-01-01                                  0               0  \n",
       "2013-01-01                                  0               0  \n",
       "2013-01-01                                  0               0  \n",
       "2013-01-01                                  0               0  \n",
       "2013-01-01                                  0               0  \n",
       "\n",
       "[5 rows x 37 columns]"
      ]
     },
     "execution_count": 9,
     "metadata": {},
     "output_type": "execute_result"
    }
   ],
   "source": [
    "df.head()"
   ]
  },
  {
   "cell_type": "code",
   "execution_count": 10,
   "metadata": {
    "execution": {
     "iopub.execute_input": "2022-02-05T17:40:19.221696Z",
     "iopub.status.busy": "2022-02-05T17:40:19.221038Z",
     "iopub.status.idle": "2022-02-05T17:40:23.012493Z",
     "shell.execute_reply": "2022-02-05T17:40:23.012049Z",
     "shell.execute_reply.started": "2022-02-05T17:23:30.156591Z"
    },
    "papermill": {
     "duration": 3.899779,
     "end_time": "2022-02-05T17:40:23.012624",
     "exception": false,
     "start_time": "2022-02-05T17:40:19.112845",
     "status": "completed"
    },
    "tags": []
   },
   "outputs": [],
   "source": [
    "# enc = OrdinalEncoder()\n",
    "# df.family = enc.fit_transform( np.array(df.family).reshape( (-1, 1) ) )\n",
    "#df.head()\n",
    "\n",
    "#ohe = OneHotEncoder(sparse=False, handle_unknown='ignore')\n",
    "#dfOh = pd.DataFrame( ohe.fit_transform( np.array(df.family).reshape( (-1, 1) ) ) )\n",
    "\n",
    "\n",
    "# dfOh.columns = df.family.unique()\n",
    "\n",
    "#df = pd.concat([df.drop(\"family\", axis=1), dfOh], axis=1)\n"
   ]
  },
  {
   "cell_type": "code",
   "execution_count": 11,
   "metadata": {
    "execution": {
     "iopub.execute_input": "2022-02-05T17:40:23.073566Z",
     "iopub.status.busy": "2022-02-05T17:40:23.072904Z",
     "iopub.status.idle": "2022-02-05T17:40:23.146275Z",
     "shell.execute_reply": "2022-02-05T17:40:23.146697Z",
     "shell.execute_reply.started": "2022-02-05T17:23:34.597904Z"
    },
    "papermill": {
     "duration": 0.106991,
     "end_time": "2022-02-05T17:40:23.146846",
     "exception": false,
     "start_time": "2022-02-05T17:40:23.039855",
     "status": "completed"
    },
    "tags": []
   },
   "outputs": [],
   "source": [
    "# dfOh = pd.DataFrame( ohe.transform( np.array(X_test.family).reshape( (-1, 1) ) ) )\n",
    "# dfOh.columns = X_test.family.unique()\n",
    "# dfOh.index = X_test.index\n",
    "\n",
    "# X_test = pd.concat([X_test.drop(\"family\", axis=1), dfOh], axis=1)\n",
    "# X_test.head()"
   ]
  },
  {
   "cell_type": "code",
   "execution_count": 12,
   "metadata": {},
   "outputs": [
    {
     "data": {
      "text/html": [
       "<div>\n",
       "<style scoped>\n",
       "    .dataframe tbody tr th:only-of-type {\n",
       "        vertical-align: middle;\n",
       "    }\n",
       "\n",
       "    .dataframe tbody tr th {\n",
       "        vertical-align: top;\n",
       "    }\n",
       "\n",
       "    .dataframe thead th {\n",
       "        text-align: right;\n",
       "    }\n",
       "</style>\n",
       "<table border=\"1\" class=\"dataframe\">\n",
       "  <thead>\n",
       "    <tr style=\"text-align: right;\">\n",
       "      <th></th>\n",
       "      <th>id</th>\n",
       "      <th>store_nbr</th>\n",
       "      <th>onpromotion</th>\n",
       "      <th>family_AUTOMOTIVE</th>\n",
       "      <th>family_BABY CARE</th>\n",
       "      <th>family_BEAUTY</th>\n",
       "      <th>family_BEVERAGES</th>\n",
       "      <th>family_BOOKS</th>\n",
       "      <th>family_BREAD/BAKERY</th>\n",
       "      <th>family_CELEBRATION</th>\n",
       "      <th>...</th>\n",
       "      <th>family_MAGAZINES</th>\n",
       "      <th>family_MEATS</th>\n",
       "      <th>family_PERSONAL CARE</th>\n",
       "      <th>family_PET SUPPLIES</th>\n",
       "      <th>family_PLAYERS AND ELECTRONICS</th>\n",
       "      <th>family_POULTRY</th>\n",
       "      <th>family_PREPARED FOODS</th>\n",
       "      <th>family_PRODUCE</th>\n",
       "      <th>family_SCHOOL AND OFFICE SUPPLIES</th>\n",
       "      <th>family_SEAFOOD</th>\n",
       "    </tr>\n",
       "    <tr>\n",
       "      <th>date</th>\n",
       "      <th></th>\n",
       "      <th></th>\n",
       "      <th></th>\n",
       "      <th></th>\n",
       "      <th></th>\n",
       "      <th></th>\n",
       "      <th></th>\n",
       "      <th></th>\n",
       "      <th></th>\n",
       "      <th></th>\n",
       "      <th></th>\n",
       "      <th></th>\n",
       "      <th></th>\n",
       "      <th></th>\n",
       "      <th></th>\n",
       "      <th></th>\n",
       "      <th></th>\n",
       "      <th></th>\n",
       "      <th></th>\n",
       "      <th></th>\n",
       "      <th></th>\n",
       "    </tr>\n",
       "  </thead>\n",
       "  <tbody>\n",
       "    <tr>\n",
       "      <th>2017-08-16</th>\n",
       "      <td>3000888</td>\n",
       "      <td>1</td>\n",
       "      <td>0</td>\n",
       "      <td>1</td>\n",
       "      <td>0</td>\n",
       "      <td>0</td>\n",
       "      <td>0</td>\n",
       "      <td>0</td>\n",
       "      <td>0</td>\n",
       "      <td>0</td>\n",
       "      <td>...</td>\n",
       "      <td>0</td>\n",
       "      <td>0</td>\n",
       "      <td>0</td>\n",
       "      <td>0</td>\n",
       "      <td>0</td>\n",
       "      <td>0</td>\n",
       "      <td>0</td>\n",
       "      <td>0</td>\n",
       "      <td>0</td>\n",
       "      <td>0</td>\n",
       "    </tr>\n",
       "    <tr>\n",
       "      <th>2017-08-16</th>\n",
       "      <td>3000889</td>\n",
       "      <td>1</td>\n",
       "      <td>0</td>\n",
       "      <td>0</td>\n",
       "      <td>1</td>\n",
       "      <td>0</td>\n",
       "      <td>0</td>\n",
       "      <td>0</td>\n",
       "      <td>0</td>\n",
       "      <td>0</td>\n",
       "      <td>...</td>\n",
       "      <td>0</td>\n",
       "      <td>0</td>\n",
       "      <td>0</td>\n",
       "      <td>0</td>\n",
       "      <td>0</td>\n",
       "      <td>0</td>\n",
       "      <td>0</td>\n",
       "      <td>0</td>\n",
       "      <td>0</td>\n",
       "      <td>0</td>\n",
       "    </tr>\n",
       "    <tr>\n",
       "      <th>2017-08-16</th>\n",
       "      <td>3000890</td>\n",
       "      <td>1</td>\n",
       "      <td>2</td>\n",
       "      <td>0</td>\n",
       "      <td>0</td>\n",
       "      <td>1</td>\n",
       "      <td>0</td>\n",
       "      <td>0</td>\n",
       "      <td>0</td>\n",
       "      <td>0</td>\n",
       "      <td>...</td>\n",
       "      <td>0</td>\n",
       "      <td>0</td>\n",
       "      <td>0</td>\n",
       "      <td>0</td>\n",
       "      <td>0</td>\n",
       "      <td>0</td>\n",
       "      <td>0</td>\n",
       "      <td>0</td>\n",
       "      <td>0</td>\n",
       "      <td>0</td>\n",
       "    </tr>\n",
       "    <tr>\n",
       "      <th>2017-08-16</th>\n",
       "      <td>3000891</td>\n",
       "      <td>1</td>\n",
       "      <td>20</td>\n",
       "      <td>0</td>\n",
       "      <td>0</td>\n",
       "      <td>0</td>\n",
       "      <td>1</td>\n",
       "      <td>0</td>\n",
       "      <td>0</td>\n",
       "      <td>0</td>\n",
       "      <td>...</td>\n",
       "      <td>0</td>\n",
       "      <td>0</td>\n",
       "      <td>0</td>\n",
       "      <td>0</td>\n",
       "      <td>0</td>\n",
       "      <td>0</td>\n",
       "      <td>0</td>\n",
       "      <td>0</td>\n",
       "      <td>0</td>\n",
       "      <td>0</td>\n",
       "    </tr>\n",
       "    <tr>\n",
       "      <th>2017-08-16</th>\n",
       "      <td>3000892</td>\n",
       "      <td>1</td>\n",
       "      <td>0</td>\n",
       "      <td>0</td>\n",
       "      <td>0</td>\n",
       "      <td>0</td>\n",
       "      <td>0</td>\n",
       "      <td>1</td>\n",
       "      <td>0</td>\n",
       "      <td>0</td>\n",
       "      <td>...</td>\n",
       "      <td>0</td>\n",
       "      <td>0</td>\n",
       "      <td>0</td>\n",
       "      <td>0</td>\n",
       "      <td>0</td>\n",
       "      <td>0</td>\n",
       "      <td>0</td>\n",
       "      <td>0</td>\n",
       "      <td>0</td>\n",
       "      <td>0</td>\n",
       "    </tr>\n",
       "  </tbody>\n",
       "</table>\n",
       "<p>5 rows × 36 columns</p>\n",
       "</div>"
      ],
      "text/plain": [
       "                 id  store_nbr  onpromotion  family_AUTOMOTIVE  \\\n",
       "date                                                             \n",
       "2017-08-16  3000888          1            0                  1   \n",
       "2017-08-16  3000889          1            0                  0   \n",
       "2017-08-16  3000890          1            2                  0   \n",
       "2017-08-16  3000891          1           20                  0   \n",
       "2017-08-16  3000892          1            0                  0   \n",
       "\n",
       "            family_BABY CARE  family_BEAUTY  family_BEVERAGES  family_BOOKS  \\\n",
       "date                                                                          \n",
       "2017-08-16                 0              0                 0             0   \n",
       "2017-08-16                 1              0                 0             0   \n",
       "2017-08-16                 0              1                 0             0   \n",
       "2017-08-16                 0              0                 1             0   \n",
       "2017-08-16                 0              0                 0             1   \n",
       "\n",
       "            family_BREAD/BAKERY  family_CELEBRATION  ...  family_MAGAZINES  \\\n",
       "date                                                 ...                     \n",
       "2017-08-16                    0                   0  ...                 0   \n",
       "2017-08-16                    0                   0  ...                 0   \n",
       "2017-08-16                    0                   0  ...                 0   \n",
       "2017-08-16                    0                   0  ...                 0   \n",
       "2017-08-16                    0                   0  ...                 0   \n",
       "\n",
       "            family_MEATS  family_PERSONAL CARE  family_PET SUPPLIES  \\\n",
       "date                                                                  \n",
       "2017-08-16             0                     0                    0   \n",
       "2017-08-16             0                     0                    0   \n",
       "2017-08-16             0                     0                    0   \n",
       "2017-08-16             0                     0                    0   \n",
       "2017-08-16             0                     0                    0   \n",
       "\n",
       "            family_PLAYERS AND ELECTRONICS  family_POULTRY  \\\n",
       "date                                                         \n",
       "2017-08-16                               0               0   \n",
       "2017-08-16                               0               0   \n",
       "2017-08-16                               0               0   \n",
       "2017-08-16                               0               0   \n",
       "2017-08-16                               0               0   \n",
       "\n",
       "            family_PREPARED FOODS  family_PRODUCE  \\\n",
       "date                                                \n",
       "2017-08-16                      0               0   \n",
       "2017-08-16                      0               0   \n",
       "2017-08-16                      0               0   \n",
       "2017-08-16                      0               0   \n",
       "2017-08-16                      0               0   \n",
       "\n",
       "            family_SCHOOL AND OFFICE SUPPLIES  family_SEAFOOD  \n",
       "date                                                           \n",
       "2017-08-16                                  0               0  \n",
       "2017-08-16                                  0               0  \n",
       "2017-08-16                                  0               0  \n",
       "2017-08-16                                  0               0  \n",
       "2017-08-16                                  0               0  \n",
       "\n",
       "[5 rows x 36 columns]"
      ]
     },
     "execution_count": 12,
     "metadata": {},
     "output_type": "execute_result"
    }
   ],
   "source": [
    "X_test = pd.get_dummies(X_test, columns=['family'])\n",
    "X_test.head()"
   ]
  },
  {
   "cell_type": "markdown",
   "metadata": {
    "papermill": {
     "duration": 0.028607,
     "end_time": "2022-02-05T17:40:23.203506",
     "exception": false,
     "start_time": "2022-02-05T17:40:23.174899",
     "status": "completed"
    },
    "tags": []
   },
   "source": [
    "# Feature Engineering"
   ]
  },
  {
   "cell_type": "code",
   "execution_count": 13,
   "metadata": {
    "execution": {
     "iopub.execute_input": "2022-02-05T17:40:23.264297Z",
     "iopub.status.busy": "2022-02-05T17:40:23.262812Z",
     "iopub.status.idle": "2022-02-05T17:40:24.317643Z",
     "shell.execute_reply": "2022-02-05T17:40:24.317110Z",
     "shell.execute_reply.started": "2022-02-05T17:23:34.692649Z"
    },
    "papermill": {
     "duration": 1.085869,
     "end_time": "2022-02-05T17:40:24.317775",
     "exception": false,
     "start_time": "2022-02-05T17:40:23.231906",
     "status": "completed"
    },
    "tags": []
   },
   "outputs": [],
   "source": [
    "X = df.copy()\n",
    "y = X.pop('sales')"
   ]
  },
  {
   "cell_type": "code",
   "execution_count": 14,
   "metadata": {
    "execution": {
     "iopub.execute_input": "2022-02-05T17:40:24.380906Z",
     "iopub.status.busy": "2022-02-05T17:40:24.380235Z",
     "iopub.status.idle": "2022-02-05T17:40:25.189675Z",
     "shell.execute_reply": "2022-02-05T17:40:25.190096Z",
     "shell.execute_reply.started": "2022-02-05T17:23:35.766427Z"
    },
    "papermill": {
     "duration": 0.843285,
     "end_time": "2022-02-05T17:40:25.190268",
     "exception": false,
     "start_time": "2022-02-05T17:40:24.346983",
     "status": "completed"
    },
    "tags": []
   },
   "outputs": [
    {
     "data": {
      "text/plain": [
       "[<matplotlib.lines.Line2D at 0x1ce8615e710>]"
      ]
     },
     "execution_count": 14,
     "metadata": {},
     "output_type": "execute_result"
    },
    {
     "data": {
      "image/png": "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\n",
      "text/plain": [
       "<Figure size 432x288 with 1 Axes>"
      ]
     },
     "metadata": {},
     "output_type": "display_data"
    }
   ],
   "source": [
    "plt.plot(y)"
   ]
  },
  {
   "cell_type": "markdown",
   "metadata": {
    "papermill": {
     "duration": 0.028391,
     "end_time": "2022-02-05T17:40:25.247909",
     "exception": false,
     "start_time": "2022-02-05T17:40:25.219518",
     "status": "completed"
    },
    "tags": []
   },
   "source": [
    "So, let's make trend!"
   ]
  },
  {
   "cell_type": "code",
   "execution_count": 15,
   "metadata": {
    "execution": {
     "iopub.execute_input": "2022-02-05T17:40:25.309686Z",
     "iopub.status.busy": "2022-02-05T17:40:25.309111Z",
     "iopub.status.idle": "2022-02-05T17:40:25.502837Z",
     "shell.execute_reply": "2022-02-05T17:40:25.501938Z",
     "shell.execute_reply.started": "2022-02-05T17:23:36.598851Z"
    },
    "papermill": {
     "duration": 0.226486,
     "end_time": "2022-02-05T17:40:25.503066",
     "exception": false,
     "start_time": "2022-02-05T17:40:25.276580",
     "status": "completed"
    },
    "tags": []
   },
   "outputs": [
    {
     "data": {
      "text/html": [
       "<div>\n",
       "<style scoped>\n",
       "    .dataframe tbody tr th:only-of-type {\n",
       "        vertical-align: middle;\n",
       "    }\n",
       "\n",
       "    .dataframe tbody tr th {\n",
       "        vertical-align: top;\n",
       "    }\n",
       "\n",
       "    .dataframe thead th {\n",
       "        text-align: right;\n",
       "    }\n",
       "</style>\n",
       "<table border=\"1\" class=\"dataframe\">\n",
       "  <thead>\n",
       "    <tr style=\"text-align: right;\">\n",
       "      <th></th>\n",
       "      <th>trend</th>\n",
       "    </tr>\n",
       "    <tr>\n",
       "      <th>date</th>\n",
       "      <th></th>\n",
       "    </tr>\n",
       "  </thead>\n",
       "  <tbody>\n",
       "    <tr>\n",
       "      <th>2013-01-01</th>\n",
       "      <td>1.0</td>\n",
       "    </tr>\n",
       "    <tr>\n",
       "      <th>2013-01-01</th>\n",
       "      <td>2.0</td>\n",
       "    </tr>\n",
       "    <tr>\n",
       "      <th>2013-01-01</th>\n",
       "      <td>3.0</td>\n",
       "    </tr>\n",
       "    <tr>\n",
       "      <th>2013-01-01</th>\n",
       "      <td>4.0</td>\n",
       "    </tr>\n",
       "    <tr>\n",
       "      <th>2013-01-01</th>\n",
       "      <td>5.0</td>\n",
       "    </tr>\n",
       "    <tr>\n",
       "      <th>...</th>\n",
       "      <td>...</td>\n",
       "    </tr>\n",
       "    <tr>\n",
       "      <th>2017-08-15</th>\n",
       "      <td>3000884.0</td>\n",
       "    </tr>\n",
       "    <tr>\n",
       "      <th>2017-08-15</th>\n",
       "      <td>3000885.0</td>\n",
       "    </tr>\n",
       "    <tr>\n",
       "      <th>2017-08-15</th>\n",
       "      <td>3000886.0</td>\n",
       "    </tr>\n",
       "    <tr>\n",
       "      <th>2017-08-15</th>\n",
       "      <td>3000887.0</td>\n",
       "    </tr>\n",
       "    <tr>\n",
       "      <th>2017-08-15</th>\n",
       "      <td>3000888.0</td>\n",
       "    </tr>\n",
       "  </tbody>\n",
       "</table>\n",
       "<p>3000888 rows × 1 columns</p>\n",
       "</div>"
      ],
      "text/plain": [
       "                trend\n",
       "date                 \n",
       "2013-01-01        1.0\n",
       "2013-01-01        2.0\n",
       "2013-01-01        3.0\n",
       "2013-01-01        4.0\n",
       "2013-01-01        5.0\n",
       "...               ...\n",
       "2017-08-15  3000884.0\n",
       "2017-08-15  3000885.0\n",
       "2017-08-15  3000886.0\n",
       "2017-08-15  3000887.0\n",
       "2017-08-15  3000888.0\n",
       "\n",
       "[3000888 rows x 1 columns]"
      ]
     },
     "execution_count": 15,
     "metadata": {},
     "output_type": "execute_result"
    }
   ],
   "source": [
    "dp = DeterministicProcess(\n",
    "    index=X.index,\n",
    "    order=1,\n",
    "    drop=True\n",
    ")\n",
    "\n",
    "dp.in_sample()"
   ]
  },
  {
   "cell_type": "code",
   "execution_count": 16,
   "metadata": {
    "execution": {
     "iopub.execute_input": "2022-02-05T17:40:25.625303Z",
     "iopub.status.busy": "2022-02-05T17:40:25.624268Z",
     "iopub.status.idle": "2022-02-05T17:40:25.968903Z",
     "shell.execute_reply": "2022-02-05T17:40:25.968224Z",
     "shell.execute_reply.started": "2022-02-05T17:23:36.792907Z"
    },
    "papermill": {
     "duration": 0.378929,
     "end_time": "2022-02-05T17:40:25.969067",
     "exception": false,
     "start_time": "2022-02-05T17:40:25.590138",
     "status": "completed"
    },
    "tags": []
   },
   "outputs": [],
   "source": [
    "X = pd.concat([X, dp.in_sample()], axis=1)"
   ]
  },
  {
   "cell_type": "code",
   "execution_count": 17,
   "metadata": {},
   "outputs": [
    {
     "data": {
      "text/plain": [
       "(28512, 36)"
      ]
     },
     "execution_count": 17,
     "metadata": {},
     "output_type": "execute_result"
    }
   ],
   "source": [
    "X_test.shape"
   ]
  },
  {
   "cell_type": "code",
   "execution_count": 18,
   "metadata": {
    "execution": {
     "iopub.execute_input": "2022-02-05T17:40:26.034110Z",
     "iopub.status.busy": "2022-02-05T17:40:26.033142Z",
     "iopub.status.idle": "2022-02-05T17:40:26.039985Z",
     "shell.execute_reply": "2022-02-05T17:40:26.040459Z",
     "shell.execute_reply.started": "2022-02-05T17:23:37.145866Z"
    },
    "papermill": {
     "duration": 0.042176,
     "end_time": "2022-02-05T17:40:26.040614",
     "exception": false,
     "start_time": "2022-02-05T17:40:25.998438",
     "status": "completed"
    },
    "tags": []
   },
   "outputs": [],
   "source": [
    "X_test = pd.concat([X_test, dp.out_of_sample(steps=X_test.shape[0], forecast_index=X_test.index)], axis=1)"
   ]
  },
  {
   "cell_type": "code",
   "execution_count": 19,
   "metadata": {
    "execution": {
     "iopub.execute_input": "2022-02-05T17:40:26.104962Z",
     "iopub.status.busy": "2022-02-05T17:40:26.104310Z",
     "iopub.status.idle": "2022-02-05T17:40:26.128400Z",
     "shell.execute_reply": "2022-02-05T17:40:26.127957Z",
     "shell.execute_reply.started": "2022-02-05T17:23:37.156883Z"
    },
    "papermill": {
     "duration": 0.05847,
     "end_time": "2022-02-05T17:40:26.128530",
     "exception": false,
     "start_time": "2022-02-05T17:40:26.070060",
     "status": "completed"
    },
    "tags": []
   },
   "outputs": [
    {
     "data": {
      "text/html": [
       "<div>\n",
       "<style scoped>\n",
       "    .dataframe tbody tr th:only-of-type {\n",
       "        vertical-align: middle;\n",
       "    }\n",
       "\n",
       "    .dataframe tbody tr th {\n",
       "        vertical-align: top;\n",
       "    }\n",
       "\n",
       "    .dataframe thead th {\n",
       "        text-align: right;\n",
       "    }\n",
       "</style>\n",
       "<table border=\"1\" class=\"dataframe\">\n",
       "  <thead>\n",
       "    <tr style=\"text-align: right;\">\n",
       "      <th></th>\n",
       "      <th>id</th>\n",
       "      <th>store_nbr</th>\n",
       "      <th>onpromotion</th>\n",
       "      <th>family_AUTOMOTIVE</th>\n",
       "      <th>family_BABY CARE</th>\n",
       "      <th>family_BEAUTY</th>\n",
       "      <th>family_BEVERAGES</th>\n",
       "      <th>family_BOOKS</th>\n",
       "      <th>family_BREAD/BAKERY</th>\n",
       "      <th>family_CELEBRATION</th>\n",
       "      <th>...</th>\n",
       "      <th>family_MEATS</th>\n",
       "      <th>family_PERSONAL CARE</th>\n",
       "      <th>family_PET SUPPLIES</th>\n",
       "      <th>family_PLAYERS AND ELECTRONICS</th>\n",
       "      <th>family_POULTRY</th>\n",
       "      <th>family_PREPARED FOODS</th>\n",
       "      <th>family_PRODUCE</th>\n",
       "      <th>family_SCHOOL AND OFFICE SUPPLIES</th>\n",
       "      <th>family_SEAFOOD</th>\n",
       "      <th>trend</th>\n",
       "    </tr>\n",
       "    <tr>\n",
       "      <th>date</th>\n",
       "      <th></th>\n",
       "      <th></th>\n",
       "      <th></th>\n",
       "      <th></th>\n",
       "      <th></th>\n",
       "      <th></th>\n",
       "      <th></th>\n",
       "      <th></th>\n",
       "      <th></th>\n",
       "      <th></th>\n",
       "      <th></th>\n",
       "      <th></th>\n",
       "      <th></th>\n",
       "      <th></th>\n",
       "      <th></th>\n",
       "      <th></th>\n",
       "      <th></th>\n",
       "      <th></th>\n",
       "      <th></th>\n",
       "      <th></th>\n",
       "      <th></th>\n",
       "    </tr>\n",
       "  </thead>\n",
       "  <tbody>\n",
       "    <tr>\n",
       "      <th>2013-01-01</th>\n",
       "      <td>0</td>\n",
       "      <td>1</td>\n",
       "      <td>0</td>\n",
       "      <td>1</td>\n",
       "      <td>0</td>\n",
       "      <td>0</td>\n",
       "      <td>0</td>\n",
       "      <td>0</td>\n",
       "      <td>0</td>\n",
       "      <td>0</td>\n",
       "      <td>...</td>\n",
       "      <td>0</td>\n",
       "      <td>0</td>\n",
       "      <td>0</td>\n",
       "      <td>0</td>\n",
       "      <td>0</td>\n",
       "      <td>0</td>\n",
       "      <td>0</td>\n",
       "      <td>0</td>\n",
       "      <td>0</td>\n",
       "      <td>1.0</td>\n",
       "    </tr>\n",
       "    <tr>\n",
       "      <th>2013-01-01</th>\n",
       "      <td>1</td>\n",
       "      <td>1</td>\n",
       "      <td>0</td>\n",
       "      <td>0</td>\n",
       "      <td>1</td>\n",
       "      <td>0</td>\n",
       "      <td>0</td>\n",
       "      <td>0</td>\n",
       "      <td>0</td>\n",
       "      <td>0</td>\n",
       "      <td>...</td>\n",
       "      <td>0</td>\n",
       "      <td>0</td>\n",
       "      <td>0</td>\n",
       "      <td>0</td>\n",
       "      <td>0</td>\n",
       "      <td>0</td>\n",
       "      <td>0</td>\n",
       "      <td>0</td>\n",
       "      <td>0</td>\n",
       "      <td>2.0</td>\n",
       "    </tr>\n",
       "    <tr>\n",
       "      <th>2013-01-01</th>\n",
       "      <td>2</td>\n",
       "      <td>1</td>\n",
       "      <td>0</td>\n",
       "      <td>0</td>\n",
       "      <td>0</td>\n",
       "      <td>1</td>\n",
       "      <td>0</td>\n",
       "      <td>0</td>\n",
       "      <td>0</td>\n",
       "      <td>0</td>\n",
       "      <td>...</td>\n",
       "      <td>0</td>\n",
       "      <td>0</td>\n",
       "      <td>0</td>\n",
       "      <td>0</td>\n",
       "      <td>0</td>\n",
       "      <td>0</td>\n",
       "      <td>0</td>\n",
       "      <td>0</td>\n",
       "      <td>0</td>\n",
       "      <td>3.0</td>\n",
       "    </tr>\n",
       "    <tr>\n",
       "      <th>2013-01-01</th>\n",
       "      <td>3</td>\n",
       "      <td>1</td>\n",
       "      <td>0</td>\n",
       "      <td>0</td>\n",
       "      <td>0</td>\n",
       "      <td>0</td>\n",
       "      <td>1</td>\n",
       "      <td>0</td>\n",
       "      <td>0</td>\n",
       "      <td>0</td>\n",
       "      <td>...</td>\n",
       "      <td>0</td>\n",
       "      <td>0</td>\n",
       "      <td>0</td>\n",
       "      <td>0</td>\n",
       "      <td>0</td>\n",
       "      <td>0</td>\n",
       "      <td>0</td>\n",
       "      <td>0</td>\n",
       "      <td>0</td>\n",
       "      <td>4.0</td>\n",
       "    </tr>\n",
       "    <tr>\n",
       "      <th>2013-01-01</th>\n",
       "      <td>4</td>\n",
       "      <td>1</td>\n",
       "      <td>0</td>\n",
       "      <td>0</td>\n",
       "      <td>0</td>\n",
       "      <td>0</td>\n",
       "      <td>0</td>\n",
       "      <td>1</td>\n",
       "      <td>0</td>\n",
       "      <td>0</td>\n",
       "      <td>...</td>\n",
       "      <td>0</td>\n",
       "      <td>0</td>\n",
       "      <td>0</td>\n",
       "      <td>0</td>\n",
       "      <td>0</td>\n",
       "      <td>0</td>\n",
       "      <td>0</td>\n",
       "      <td>0</td>\n",
       "      <td>0</td>\n",
       "      <td>5.0</td>\n",
       "    </tr>\n",
       "  </tbody>\n",
       "</table>\n",
       "<p>5 rows × 37 columns</p>\n",
       "</div>"
      ],
      "text/plain": [
       "            id  store_nbr  onpromotion  family_AUTOMOTIVE  family_BABY CARE  \\\n",
       "date                                                                          \n",
       "2013-01-01   0          1            0                  1                 0   \n",
       "2013-01-01   1          1            0                  0                 1   \n",
       "2013-01-01   2          1            0                  0                 0   \n",
       "2013-01-01   3          1            0                  0                 0   \n",
       "2013-01-01   4          1            0                  0                 0   \n",
       "\n",
       "            family_BEAUTY  family_BEVERAGES  family_BOOKS  \\\n",
       "date                                                        \n",
       "2013-01-01              0                 0             0   \n",
       "2013-01-01              0                 0             0   \n",
       "2013-01-01              1                 0             0   \n",
       "2013-01-01              0                 1             0   \n",
       "2013-01-01              0                 0             1   \n",
       "\n",
       "            family_BREAD/BAKERY  family_CELEBRATION  ...  family_MEATS  \\\n",
       "date                                                 ...                 \n",
       "2013-01-01                    0                   0  ...             0   \n",
       "2013-01-01                    0                   0  ...             0   \n",
       "2013-01-01                    0                   0  ...             0   \n",
       "2013-01-01                    0                   0  ...             0   \n",
       "2013-01-01                    0                   0  ...             0   \n",
       "\n",
       "            family_PERSONAL CARE  family_PET SUPPLIES  \\\n",
       "date                                                    \n",
       "2013-01-01                     0                    0   \n",
       "2013-01-01                     0                    0   \n",
       "2013-01-01                     0                    0   \n",
       "2013-01-01                     0                    0   \n",
       "2013-01-01                     0                    0   \n",
       "\n",
       "            family_PLAYERS AND ELECTRONICS  family_POULTRY  \\\n",
       "date                                                         \n",
       "2013-01-01                               0               0   \n",
       "2013-01-01                               0               0   \n",
       "2013-01-01                               0               0   \n",
       "2013-01-01                               0               0   \n",
       "2013-01-01                               0               0   \n",
       "\n",
       "            family_PREPARED FOODS  family_PRODUCE  \\\n",
       "date                                                \n",
       "2013-01-01                      0               0   \n",
       "2013-01-01                      0               0   \n",
       "2013-01-01                      0               0   \n",
       "2013-01-01                      0               0   \n",
       "2013-01-01                      0               0   \n",
       "\n",
       "            family_SCHOOL AND OFFICE SUPPLIES  family_SEAFOOD  trend  \n",
       "date                                                                  \n",
       "2013-01-01                                  0               0    1.0  \n",
       "2013-01-01                                  0               0    2.0  \n",
       "2013-01-01                                  0               0    3.0  \n",
       "2013-01-01                                  0               0    4.0  \n",
       "2013-01-01                                  0               0    5.0  \n",
       "\n",
       "[5 rows x 37 columns]"
      ]
     },
     "execution_count": 19,
     "metadata": {},
     "output_type": "execute_result"
    }
   ],
   "source": [
    "X.head()"
   ]
  },
  {
   "cell_type": "code",
   "execution_count": 20,
   "metadata": {
    "execution": {
     "iopub.execute_input": "2022-02-05T17:40:26.214395Z",
     "iopub.status.busy": "2022-02-05T17:40:26.213770Z",
     "iopub.status.idle": "2022-02-05T17:40:26.217389Z",
     "shell.execute_reply": "2022-02-05T17:40:26.216907Z",
     "shell.execute_reply.started": "2022-02-05T17:23:37.190415Z"
    },
    "papermill": {
     "duration": 0.059154,
     "end_time": "2022-02-05T17:40:26.217516",
     "exception": false,
     "start_time": "2022-02-05T17:40:26.158362",
     "status": "completed"
    },
    "tags": []
   },
   "outputs": [
    {
     "data": {
      "text/html": [
       "<div>\n",
       "<style scoped>\n",
       "    .dataframe tbody tr th:only-of-type {\n",
       "        vertical-align: middle;\n",
       "    }\n",
       "\n",
       "    .dataframe tbody tr th {\n",
       "        vertical-align: top;\n",
       "    }\n",
       "\n",
       "    .dataframe thead th {\n",
       "        text-align: right;\n",
       "    }\n",
       "</style>\n",
       "<table border=\"1\" class=\"dataframe\">\n",
       "  <thead>\n",
       "    <tr style=\"text-align: right;\">\n",
       "      <th></th>\n",
       "      <th>id</th>\n",
       "      <th>store_nbr</th>\n",
       "      <th>onpromotion</th>\n",
       "      <th>family_AUTOMOTIVE</th>\n",
       "      <th>family_BABY CARE</th>\n",
       "      <th>family_BEAUTY</th>\n",
       "      <th>family_BEVERAGES</th>\n",
       "      <th>family_BOOKS</th>\n",
       "      <th>family_BREAD/BAKERY</th>\n",
       "      <th>family_CELEBRATION</th>\n",
       "      <th>...</th>\n",
       "      <th>family_MEATS</th>\n",
       "      <th>family_PERSONAL CARE</th>\n",
       "      <th>family_PET SUPPLIES</th>\n",
       "      <th>family_PLAYERS AND ELECTRONICS</th>\n",
       "      <th>family_POULTRY</th>\n",
       "      <th>family_PREPARED FOODS</th>\n",
       "      <th>family_PRODUCE</th>\n",
       "      <th>family_SCHOOL AND OFFICE SUPPLIES</th>\n",
       "      <th>family_SEAFOOD</th>\n",
       "      <th>trend</th>\n",
       "    </tr>\n",
       "    <tr>\n",
       "      <th>date</th>\n",
       "      <th></th>\n",
       "      <th></th>\n",
       "      <th></th>\n",
       "      <th></th>\n",
       "      <th></th>\n",
       "      <th></th>\n",
       "      <th></th>\n",
       "      <th></th>\n",
       "      <th></th>\n",
       "      <th></th>\n",
       "      <th></th>\n",
       "      <th></th>\n",
       "      <th></th>\n",
       "      <th></th>\n",
       "      <th></th>\n",
       "      <th></th>\n",
       "      <th></th>\n",
       "      <th></th>\n",
       "      <th></th>\n",
       "      <th></th>\n",
       "      <th></th>\n",
       "    </tr>\n",
       "  </thead>\n",
       "  <tbody>\n",
       "    <tr>\n",
       "      <th>2017-08-16</th>\n",
       "      <td>3000888</td>\n",
       "      <td>1</td>\n",
       "      <td>0</td>\n",
       "      <td>1</td>\n",
       "      <td>0</td>\n",
       "      <td>0</td>\n",
       "      <td>0</td>\n",
       "      <td>0</td>\n",
       "      <td>0</td>\n",
       "      <td>0</td>\n",
       "      <td>...</td>\n",
       "      <td>0</td>\n",
       "      <td>0</td>\n",
       "      <td>0</td>\n",
       "      <td>0</td>\n",
       "      <td>0</td>\n",
       "      <td>0</td>\n",
       "      <td>0</td>\n",
       "      <td>0</td>\n",
       "      <td>0</td>\n",
       "      <td>3000889.0</td>\n",
       "    </tr>\n",
       "    <tr>\n",
       "      <th>2017-08-16</th>\n",
       "      <td>3000889</td>\n",
       "      <td>1</td>\n",
       "      <td>0</td>\n",
       "      <td>0</td>\n",
       "      <td>1</td>\n",
       "      <td>0</td>\n",
       "      <td>0</td>\n",
       "      <td>0</td>\n",
       "      <td>0</td>\n",
       "      <td>0</td>\n",
       "      <td>...</td>\n",
       "      <td>0</td>\n",
       "      <td>0</td>\n",
       "      <td>0</td>\n",
       "      <td>0</td>\n",
       "      <td>0</td>\n",
       "      <td>0</td>\n",
       "      <td>0</td>\n",
       "      <td>0</td>\n",
       "      <td>0</td>\n",
       "      <td>3000890.0</td>\n",
       "    </tr>\n",
       "    <tr>\n",
       "      <th>2017-08-16</th>\n",
       "      <td>3000890</td>\n",
       "      <td>1</td>\n",
       "      <td>2</td>\n",
       "      <td>0</td>\n",
       "      <td>0</td>\n",
       "      <td>1</td>\n",
       "      <td>0</td>\n",
       "      <td>0</td>\n",
       "      <td>0</td>\n",
       "      <td>0</td>\n",
       "      <td>...</td>\n",
       "      <td>0</td>\n",
       "      <td>0</td>\n",
       "      <td>0</td>\n",
       "      <td>0</td>\n",
       "      <td>0</td>\n",
       "      <td>0</td>\n",
       "      <td>0</td>\n",
       "      <td>0</td>\n",
       "      <td>0</td>\n",
       "      <td>3000891.0</td>\n",
       "    </tr>\n",
       "    <tr>\n",
       "      <th>2017-08-16</th>\n",
       "      <td>3000891</td>\n",
       "      <td>1</td>\n",
       "      <td>20</td>\n",
       "      <td>0</td>\n",
       "      <td>0</td>\n",
       "      <td>0</td>\n",
       "      <td>1</td>\n",
       "      <td>0</td>\n",
       "      <td>0</td>\n",
       "      <td>0</td>\n",
       "      <td>...</td>\n",
       "      <td>0</td>\n",
       "      <td>0</td>\n",
       "      <td>0</td>\n",
       "      <td>0</td>\n",
       "      <td>0</td>\n",
       "      <td>0</td>\n",
       "      <td>0</td>\n",
       "      <td>0</td>\n",
       "      <td>0</td>\n",
       "      <td>3000892.0</td>\n",
       "    </tr>\n",
       "    <tr>\n",
       "      <th>2017-08-16</th>\n",
       "      <td>3000892</td>\n",
       "      <td>1</td>\n",
       "      <td>0</td>\n",
       "      <td>0</td>\n",
       "      <td>0</td>\n",
       "      <td>0</td>\n",
       "      <td>0</td>\n",
       "      <td>1</td>\n",
       "      <td>0</td>\n",
       "      <td>0</td>\n",
       "      <td>...</td>\n",
       "      <td>0</td>\n",
       "      <td>0</td>\n",
       "      <td>0</td>\n",
       "      <td>0</td>\n",
       "      <td>0</td>\n",
       "      <td>0</td>\n",
       "      <td>0</td>\n",
       "      <td>0</td>\n",
       "      <td>0</td>\n",
       "      <td>3000893.0</td>\n",
       "    </tr>\n",
       "  </tbody>\n",
       "</table>\n",
       "<p>5 rows × 37 columns</p>\n",
       "</div>"
      ],
      "text/plain": [
       "                 id  store_nbr  onpromotion  family_AUTOMOTIVE  \\\n",
       "date                                                             \n",
       "2017-08-16  3000888          1            0                  1   \n",
       "2017-08-16  3000889          1            0                  0   \n",
       "2017-08-16  3000890          1            2                  0   \n",
       "2017-08-16  3000891          1           20                  0   \n",
       "2017-08-16  3000892          1            0                  0   \n",
       "\n",
       "            family_BABY CARE  family_BEAUTY  family_BEVERAGES  family_BOOKS  \\\n",
       "date                                                                          \n",
       "2017-08-16                 0              0                 0             0   \n",
       "2017-08-16                 1              0                 0             0   \n",
       "2017-08-16                 0              1                 0             0   \n",
       "2017-08-16                 0              0                 1             0   \n",
       "2017-08-16                 0              0                 0             1   \n",
       "\n",
       "            family_BREAD/BAKERY  family_CELEBRATION  ...  family_MEATS  \\\n",
       "date                                                 ...                 \n",
       "2017-08-16                    0                   0  ...             0   \n",
       "2017-08-16                    0                   0  ...             0   \n",
       "2017-08-16                    0                   0  ...             0   \n",
       "2017-08-16                    0                   0  ...             0   \n",
       "2017-08-16                    0                   0  ...             0   \n",
       "\n",
       "            family_PERSONAL CARE  family_PET SUPPLIES  \\\n",
       "date                                                    \n",
       "2017-08-16                     0                    0   \n",
       "2017-08-16                     0                    0   \n",
       "2017-08-16                     0                    0   \n",
       "2017-08-16                     0                    0   \n",
       "2017-08-16                     0                    0   \n",
       "\n",
       "            family_PLAYERS AND ELECTRONICS  family_POULTRY  \\\n",
       "date                                                         \n",
       "2017-08-16                               0               0   \n",
       "2017-08-16                               0               0   \n",
       "2017-08-16                               0               0   \n",
       "2017-08-16                               0               0   \n",
       "2017-08-16                               0               0   \n",
       "\n",
       "            family_PREPARED FOODS  family_PRODUCE  \\\n",
       "date                                                \n",
       "2017-08-16                      0               0   \n",
       "2017-08-16                      0               0   \n",
       "2017-08-16                      0               0   \n",
       "2017-08-16                      0               0   \n",
       "2017-08-16                      0               0   \n",
       "\n",
       "            family_SCHOOL AND OFFICE SUPPLIES  family_SEAFOOD      trend  \n",
       "date                                                                      \n",
       "2017-08-16                                  0               0  3000889.0  \n",
       "2017-08-16                                  0               0  3000890.0  \n",
       "2017-08-16                                  0               0  3000891.0  \n",
       "2017-08-16                                  0               0  3000892.0  \n",
       "2017-08-16                                  0               0  3000893.0  \n",
       "\n",
       "[5 rows x 37 columns]"
      ]
     },
     "execution_count": 20,
     "metadata": {},
     "output_type": "execute_result"
    }
   ],
   "source": [
    "X_test.head()"
   ]
  },
  {
   "cell_type": "code",
   "execution_count": 21,
   "metadata": {
    "execution": {
     "iopub.execute_input": "2022-02-05T17:40:26.281722Z",
     "iopub.status.busy": "2022-02-05T17:40:26.281174Z",
     "iopub.status.idle": "2022-02-05T17:40:27.185207Z",
     "shell.execute_reply": "2022-02-05T17:40:27.185684Z",
     "shell.execute_reply.started": "2022-02-05T17:23:37.223124Z"
    },
    "papermill": {
     "duration": 0.938137,
     "end_time": "2022-02-05T17:40:27.185856",
     "exception": false,
     "start_time": "2022-02-05T17:40:26.247719",
     "status": "completed"
    },
    "tags": []
   },
   "outputs": [],
   "source": [
    "X_1 = pd.DataFrame(X[\"trend\"])\n",
    "X_2 = X.drop(\"trend\", axis=1)"
   ]
  },
  {
   "cell_type": "code",
   "execution_count": 22,
   "metadata": {
    "execution": {
     "iopub.execute_input": "2022-02-05T17:40:27.249360Z",
     "iopub.status.busy": "2022-02-05T17:40:27.248774Z",
     "iopub.status.idle": "2022-02-05T17:40:27.260491Z",
     "shell.execute_reply": "2022-02-05T17:40:27.259957Z",
     "shell.execute_reply.started": "2022-02-05T17:23:38.139604Z"
    },
    "papermill": {
     "duration": 0.044217,
     "end_time": "2022-02-05T17:40:27.260615",
     "exception": false,
     "start_time": "2022-02-05T17:40:27.216398",
     "status": "completed"
    },
    "tags": []
   },
   "outputs": [
    {
     "data": {
      "text/html": [
       "<div>\n",
       "<style scoped>\n",
       "    .dataframe tbody tr th:only-of-type {\n",
       "        vertical-align: middle;\n",
       "    }\n",
       "\n",
       "    .dataframe tbody tr th {\n",
       "        vertical-align: top;\n",
       "    }\n",
       "\n",
       "    .dataframe thead th {\n",
       "        text-align: right;\n",
       "    }\n",
       "</style>\n",
       "<table border=\"1\" class=\"dataframe\">\n",
       "  <thead>\n",
       "    <tr style=\"text-align: right;\">\n",
       "      <th></th>\n",
       "      <th>trend</th>\n",
       "    </tr>\n",
       "    <tr>\n",
       "      <th>date</th>\n",
       "      <th></th>\n",
       "    </tr>\n",
       "  </thead>\n",
       "  <tbody>\n",
       "    <tr>\n",
       "      <th>2013-01-01</th>\n",
       "      <td>1.0</td>\n",
       "    </tr>\n",
       "    <tr>\n",
       "      <th>2013-01-01</th>\n",
       "      <td>2.0</td>\n",
       "    </tr>\n",
       "    <tr>\n",
       "      <th>2013-01-01</th>\n",
       "      <td>3.0</td>\n",
       "    </tr>\n",
       "    <tr>\n",
       "      <th>2013-01-01</th>\n",
       "      <td>4.0</td>\n",
       "    </tr>\n",
       "    <tr>\n",
       "      <th>2013-01-01</th>\n",
       "      <td>5.0</td>\n",
       "    </tr>\n",
       "    <tr>\n",
       "      <th>...</th>\n",
       "      <td>...</td>\n",
       "    </tr>\n",
       "    <tr>\n",
       "      <th>2017-08-15</th>\n",
       "      <td>3000884.0</td>\n",
       "    </tr>\n",
       "    <tr>\n",
       "      <th>2017-08-15</th>\n",
       "      <td>3000885.0</td>\n",
       "    </tr>\n",
       "    <tr>\n",
       "      <th>2017-08-15</th>\n",
       "      <td>3000886.0</td>\n",
       "    </tr>\n",
       "    <tr>\n",
       "      <th>2017-08-15</th>\n",
       "      <td>3000887.0</td>\n",
       "    </tr>\n",
       "    <tr>\n",
       "      <th>2017-08-15</th>\n",
       "      <td>3000888.0</td>\n",
       "    </tr>\n",
       "  </tbody>\n",
       "</table>\n",
       "<p>3000888 rows × 1 columns</p>\n",
       "</div>"
      ],
      "text/plain": [
       "                trend\n",
       "date                 \n",
       "2013-01-01        1.0\n",
       "2013-01-01        2.0\n",
       "2013-01-01        3.0\n",
       "2013-01-01        4.0\n",
       "2013-01-01        5.0\n",
       "...               ...\n",
       "2017-08-15  3000884.0\n",
       "2017-08-15  3000885.0\n",
       "2017-08-15  3000886.0\n",
       "2017-08-15  3000887.0\n",
       "2017-08-15  3000888.0\n",
       "\n",
       "[3000888 rows x 1 columns]"
      ]
     },
     "execution_count": 22,
     "metadata": {},
     "output_type": "execute_result"
    }
   ],
   "source": [
    "X_1"
   ]
  },
  {
   "cell_type": "code",
   "execution_count": 23,
   "metadata": {
    "execution": {
     "iopub.execute_input": "2022-02-05T17:40:27.326952Z",
     "iopub.status.busy": "2022-02-05T17:40:27.326163Z",
     "iopub.status.idle": "2022-02-05T17:40:28.194390Z",
     "shell.execute_reply": "2022-02-05T17:40:28.193862Z",
     "shell.execute_reply.started": "2022-02-05T17:23:38.153287Z"
    },
    "papermill": {
     "duration": 0.903355,
     "end_time": "2022-02-05T17:40:28.194522",
     "exception": false,
     "start_time": "2022-02-05T17:40:27.291167",
     "status": "completed"
    },
    "tags": []
   },
   "outputs": [
    {
     "data": {
      "image/png": "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\n",
      "text/plain": [
       "<Figure size 432x288 with 1 Axes>"
      ]
     },
     "metadata": {},
     "output_type": "display_data"
    }
   ],
   "source": [
    "_ = plot_pacf(y, lags=12)"
   ]
  },
  {
   "cell_type": "markdown",
   "metadata": {
    "papermill": {
     "duration": 0.030734,
     "end_time": "2022-02-05T17:40:28.256367",
     "exception": false,
     "start_time": "2022-02-05T17:40:28.225633",
     "status": "completed"
    },
    "tags": []
   },
   "source": [
    "From the plot we see that 4, 5, 6 lags is a great idea!"
   ]
  },
  {
   "cell_type": "code",
   "execution_count": 24,
   "metadata": {
    "execution": {
     "iopub.execute_input": "2022-02-05T17:40:28.323660Z",
     "iopub.status.busy": "2022-02-05T17:40:28.323050Z",
     "iopub.status.idle": "2022-02-05T17:40:28.376268Z",
     "shell.execute_reply": "2022-02-05T17:40:28.375650Z",
     "shell.execute_reply.started": "2022-02-05T17:23:38.999945Z"
    },
    "papermill": {
     "duration": 0.089034,
     "end_time": "2022-02-05T17:40:28.376398",
     "exception": false,
     "start_time": "2022-02-05T17:40:28.287364",
     "status": "completed"
    },
    "tags": []
   },
   "outputs": [],
   "source": [
    "for i in range(4, 7):\n",
    "    X_2[f\"Lag_{i}\"] = y.shift(i)"
   ]
  },
  {
   "cell_type": "code",
   "execution_count": 25,
   "metadata": {
    "execution": {
     "iopub.execute_input": "2022-02-05T17:40:28.446431Z",
     "iopub.status.busy": "2022-02-05T17:40:28.445850Z",
     "iopub.status.idle": "2022-02-05T17:40:28.448392Z",
     "shell.execute_reply": "2022-02-05T17:40:28.447939Z",
     "shell.execute_reply.started": "2022-02-05T17:23:39.058965Z"
    },
    "papermill": {
     "duration": 0.040682,
     "end_time": "2022-02-05T17:40:28.448514",
     "exception": false,
     "start_time": "2022-02-05T17:40:28.407832",
     "status": "completed"
    },
    "tags": []
   },
   "outputs": [],
   "source": [
    "for i in range(4, 7):\n",
    "    X_test[f\"Lag_{i}\"] = np.zeros(X_test.shape[0])"
   ]
  },
  {
   "cell_type": "code",
   "execution_count": 26,
   "metadata": {
    "execution": {
     "iopub.execute_input": "2022-02-05T17:40:28.516764Z",
     "iopub.status.busy": "2022-02-05T17:40:28.516167Z",
     "iopub.status.idle": "2022-02-05T17:40:29.774905Z",
     "shell.execute_reply": "2022-02-05T17:40:29.774399Z",
     "shell.execute_reply.started": "2022-02-05T17:23:39.070684Z"
    },
    "papermill": {
     "duration": 1.294953,
     "end_time": "2022-02-05T17:40:29.775078",
     "exception": false,
     "start_time": "2022-02-05T17:40:28.480125",
     "status": "completed"
    },
    "tags": []
   },
   "outputs": [],
   "source": [
    "X_2 = X_2.fillna(0.0)"
   ]
  },
  {
   "cell_type": "code",
   "execution_count": 27,
   "metadata": {
    "execution": {
     "iopub.execute_input": "2022-02-05T17:40:29.849594Z",
     "iopub.status.busy": "2022-02-05T17:40:29.848711Z",
     "iopub.status.idle": "2022-02-05T17:40:29.852549Z",
     "shell.execute_reply": "2022-02-05T17:40:29.852062Z",
     "shell.execute_reply.started": "2022-02-05T17:23:40.353222Z"
    },
    "papermill": {
     "duration": 0.044054,
     "end_time": "2022-02-05T17:40:29.852677",
     "exception": false,
     "start_time": "2022-02-05T17:40:29.808623",
     "status": "completed"
    },
    "tags": []
   },
   "outputs": [
    {
     "data": {
      "text/html": [
       "<div>\n",
       "<style scoped>\n",
       "    .dataframe tbody tr th:only-of-type {\n",
       "        vertical-align: middle;\n",
       "    }\n",
       "\n",
       "    .dataframe tbody tr th {\n",
       "        vertical-align: top;\n",
       "    }\n",
       "\n",
       "    .dataframe thead th {\n",
       "        text-align: right;\n",
       "    }\n",
       "</style>\n",
       "<table border=\"1\" class=\"dataframe\">\n",
       "  <thead>\n",
       "    <tr style=\"text-align: right;\">\n",
       "      <th></th>\n",
       "      <th>trend</th>\n",
       "    </tr>\n",
       "    <tr>\n",
       "      <th>date</th>\n",
       "      <th></th>\n",
       "    </tr>\n",
       "  </thead>\n",
       "  <tbody>\n",
       "    <tr>\n",
       "      <th>2013-01-01</th>\n",
       "      <td>1.0</td>\n",
       "    </tr>\n",
       "    <tr>\n",
       "      <th>2013-01-01</th>\n",
       "      <td>2.0</td>\n",
       "    </tr>\n",
       "    <tr>\n",
       "      <th>2013-01-01</th>\n",
       "      <td>3.0</td>\n",
       "    </tr>\n",
       "    <tr>\n",
       "      <th>2013-01-01</th>\n",
       "      <td>4.0</td>\n",
       "    </tr>\n",
       "    <tr>\n",
       "      <th>2013-01-01</th>\n",
       "      <td>5.0</td>\n",
       "    </tr>\n",
       "  </tbody>\n",
       "</table>\n",
       "</div>"
      ],
      "text/plain": [
       "            trend\n",
       "date             \n",
       "2013-01-01    1.0\n",
       "2013-01-01    2.0\n",
       "2013-01-01    3.0\n",
       "2013-01-01    4.0\n",
       "2013-01-01    5.0"
      ]
     },
     "execution_count": 27,
     "metadata": {},
     "output_type": "execute_result"
    }
   ],
   "source": [
    "X_1.head()"
   ]
  },
  {
   "cell_type": "code",
   "execution_count": 28,
   "metadata": {
    "execution": {
     "iopub.execute_input": "2022-02-05T17:40:29.943187Z",
     "iopub.status.busy": "2022-02-05T17:40:29.942403Z",
     "iopub.status.idle": "2022-02-05T17:40:29.945466Z",
     "shell.execute_reply": "2022-02-05T17:40:29.945907Z",
     "shell.execute_reply.started": "2022-02-05T17:23:40.363994Z"
    },
    "papermill": {
     "duration": 0.060561,
     "end_time": "2022-02-05T17:40:29.946099",
     "exception": false,
     "start_time": "2022-02-05T17:40:29.885538",
     "status": "completed"
    },
    "tags": []
   },
   "outputs": [
    {
     "data": {
      "text/html": [
       "<div>\n",
       "<style scoped>\n",
       "    .dataframe tbody tr th:only-of-type {\n",
       "        vertical-align: middle;\n",
       "    }\n",
       "\n",
       "    .dataframe tbody tr th {\n",
       "        vertical-align: top;\n",
       "    }\n",
       "\n",
       "    .dataframe thead th {\n",
       "        text-align: right;\n",
       "    }\n",
       "</style>\n",
       "<table border=\"1\" class=\"dataframe\">\n",
       "  <thead>\n",
       "    <tr style=\"text-align: right;\">\n",
       "      <th></th>\n",
       "      <th>id</th>\n",
       "      <th>store_nbr</th>\n",
       "      <th>onpromotion</th>\n",
       "      <th>family_AUTOMOTIVE</th>\n",
       "      <th>family_BABY CARE</th>\n",
       "      <th>family_BEAUTY</th>\n",
       "      <th>family_BEVERAGES</th>\n",
       "      <th>family_BOOKS</th>\n",
       "      <th>family_BREAD/BAKERY</th>\n",
       "      <th>family_CELEBRATION</th>\n",
       "      <th>...</th>\n",
       "      <th>family_PET SUPPLIES</th>\n",
       "      <th>family_PLAYERS AND ELECTRONICS</th>\n",
       "      <th>family_POULTRY</th>\n",
       "      <th>family_PREPARED FOODS</th>\n",
       "      <th>family_PRODUCE</th>\n",
       "      <th>family_SCHOOL AND OFFICE SUPPLIES</th>\n",
       "      <th>family_SEAFOOD</th>\n",
       "      <th>Lag_4</th>\n",
       "      <th>Lag_5</th>\n",
       "      <th>Lag_6</th>\n",
       "    </tr>\n",
       "    <tr>\n",
       "      <th>date</th>\n",
       "      <th></th>\n",
       "      <th></th>\n",
       "      <th></th>\n",
       "      <th></th>\n",
       "      <th></th>\n",
       "      <th></th>\n",
       "      <th></th>\n",
       "      <th></th>\n",
       "      <th></th>\n",
       "      <th></th>\n",
       "      <th></th>\n",
       "      <th></th>\n",
       "      <th></th>\n",
       "      <th></th>\n",
       "      <th></th>\n",
       "      <th></th>\n",
       "      <th></th>\n",
       "      <th></th>\n",
       "      <th></th>\n",
       "      <th></th>\n",
       "      <th></th>\n",
       "    </tr>\n",
       "  </thead>\n",
       "  <tbody>\n",
       "    <tr>\n",
       "      <th>2013-01-01</th>\n",
       "      <td>0</td>\n",
       "      <td>1</td>\n",
       "      <td>0</td>\n",
       "      <td>1</td>\n",
       "      <td>0</td>\n",
       "      <td>0</td>\n",
       "      <td>0</td>\n",
       "      <td>0</td>\n",
       "      <td>0</td>\n",
       "      <td>0</td>\n",
       "      <td>...</td>\n",
       "      <td>0</td>\n",
       "      <td>0</td>\n",
       "      <td>0</td>\n",
       "      <td>0</td>\n",
       "      <td>0</td>\n",
       "      <td>0</td>\n",
       "      <td>0</td>\n",
       "      <td>0.0</td>\n",
       "      <td>0.0</td>\n",
       "      <td>0.0</td>\n",
       "    </tr>\n",
       "    <tr>\n",
       "      <th>2013-01-01</th>\n",
       "      <td>1</td>\n",
       "      <td>1</td>\n",
       "      <td>0</td>\n",
       "      <td>0</td>\n",
       "      <td>1</td>\n",
       "      <td>0</td>\n",
       "      <td>0</td>\n",
       "      <td>0</td>\n",
       "      <td>0</td>\n",
       "      <td>0</td>\n",
       "      <td>...</td>\n",
       "      <td>0</td>\n",
       "      <td>0</td>\n",
       "      <td>0</td>\n",
       "      <td>0</td>\n",
       "      <td>0</td>\n",
       "      <td>0</td>\n",
       "      <td>0</td>\n",
       "      <td>0.0</td>\n",
       "      <td>0.0</td>\n",
       "      <td>0.0</td>\n",
       "    </tr>\n",
       "    <tr>\n",
       "      <th>2013-01-01</th>\n",
       "      <td>2</td>\n",
       "      <td>1</td>\n",
       "      <td>0</td>\n",
       "      <td>0</td>\n",
       "      <td>0</td>\n",
       "      <td>1</td>\n",
       "      <td>0</td>\n",
       "      <td>0</td>\n",
       "      <td>0</td>\n",
       "      <td>0</td>\n",
       "      <td>...</td>\n",
       "      <td>0</td>\n",
       "      <td>0</td>\n",
       "      <td>0</td>\n",
       "      <td>0</td>\n",
       "      <td>0</td>\n",
       "      <td>0</td>\n",
       "      <td>0</td>\n",
       "      <td>0.0</td>\n",
       "      <td>0.0</td>\n",
       "      <td>0.0</td>\n",
       "    </tr>\n",
       "    <tr>\n",
       "      <th>2013-01-01</th>\n",
       "      <td>3</td>\n",
       "      <td>1</td>\n",
       "      <td>0</td>\n",
       "      <td>0</td>\n",
       "      <td>0</td>\n",
       "      <td>0</td>\n",
       "      <td>1</td>\n",
       "      <td>0</td>\n",
       "      <td>0</td>\n",
       "      <td>0</td>\n",
       "      <td>...</td>\n",
       "      <td>0</td>\n",
       "      <td>0</td>\n",
       "      <td>0</td>\n",
       "      <td>0</td>\n",
       "      <td>0</td>\n",
       "      <td>0</td>\n",
       "      <td>0</td>\n",
       "      <td>0.0</td>\n",
       "      <td>0.0</td>\n",
       "      <td>0.0</td>\n",
       "    </tr>\n",
       "    <tr>\n",
       "      <th>2013-01-01</th>\n",
       "      <td>4</td>\n",
       "      <td>1</td>\n",
       "      <td>0</td>\n",
       "      <td>0</td>\n",
       "      <td>0</td>\n",
       "      <td>0</td>\n",
       "      <td>0</td>\n",
       "      <td>1</td>\n",
       "      <td>0</td>\n",
       "      <td>0</td>\n",
       "      <td>...</td>\n",
       "      <td>0</td>\n",
       "      <td>0</td>\n",
       "      <td>0</td>\n",
       "      <td>0</td>\n",
       "      <td>0</td>\n",
       "      <td>0</td>\n",
       "      <td>0</td>\n",
       "      <td>0.0</td>\n",
       "      <td>0.0</td>\n",
       "      <td>0.0</td>\n",
       "    </tr>\n",
       "  </tbody>\n",
       "</table>\n",
       "<p>5 rows × 39 columns</p>\n",
       "</div>"
      ],
      "text/plain": [
       "            id  store_nbr  onpromotion  family_AUTOMOTIVE  family_BABY CARE  \\\n",
       "date                                                                          \n",
       "2013-01-01   0          1            0                  1                 0   \n",
       "2013-01-01   1          1            0                  0                 1   \n",
       "2013-01-01   2          1            0                  0                 0   \n",
       "2013-01-01   3          1            0                  0                 0   \n",
       "2013-01-01   4          1            0                  0                 0   \n",
       "\n",
       "            family_BEAUTY  family_BEVERAGES  family_BOOKS  \\\n",
       "date                                                        \n",
       "2013-01-01              0                 0             0   \n",
       "2013-01-01              0                 0             0   \n",
       "2013-01-01              1                 0             0   \n",
       "2013-01-01              0                 1             0   \n",
       "2013-01-01              0                 0             1   \n",
       "\n",
       "            family_BREAD/BAKERY  family_CELEBRATION  ...  family_PET SUPPLIES  \\\n",
       "date                                                 ...                        \n",
       "2013-01-01                    0                   0  ...                    0   \n",
       "2013-01-01                    0                   0  ...                    0   \n",
       "2013-01-01                    0                   0  ...                    0   \n",
       "2013-01-01                    0                   0  ...                    0   \n",
       "2013-01-01                    0                   0  ...                    0   \n",
       "\n",
       "            family_PLAYERS AND ELECTRONICS  family_POULTRY  \\\n",
       "date                                                         \n",
       "2013-01-01                               0               0   \n",
       "2013-01-01                               0               0   \n",
       "2013-01-01                               0               0   \n",
       "2013-01-01                               0               0   \n",
       "2013-01-01                               0               0   \n",
       "\n",
       "            family_PREPARED FOODS  family_PRODUCE  \\\n",
       "date                                                \n",
       "2013-01-01                      0               0   \n",
       "2013-01-01                      0               0   \n",
       "2013-01-01                      0               0   \n",
       "2013-01-01                      0               0   \n",
       "2013-01-01                      0               0   \n",
       "\n",
       "            family_SCHOOL AND OFFICE SUPPLIES  family_SEAFOOD  Lag_4  Lag_5  \\\n",
       "date                                                                          \n",
       "2013-01-01                                  0               0    0.0    0.0   \n",
       "2013-01-01                                  0               0    0.0    0.0   \n",
       "2013-01-01                                  0               0    0.0    0.0   \n",
       "2013-01-01                                  0               0    0.0    0.0   \n",
       "2013-01-01                                  0               0    0.0    0.0   \n",
       "\n",
       "            Lag_6  \n",
       "date               \n",
       "2013-01-01    0.0  \n",
       "2013-01-01    0.0  \n",
       "2013-01-01    0.0  \n",
       "2013-01-01    0.0  \n",
       "2013-01-01    0.0  \n",
       "\n",
       "[5 rows x 39 columns]"
      ]
     },
     "execution_count": 28,
     "metadata": {},
     "output_type": "execute_result"
    }
   ],
   "source": [
    "X_2.head()"
   ]
  },
  {
   "cell_type": "markdown",
   "metadata": {
    "papermill": {
     "duration": 0.032775,
     "end_time": "2022-02-05T17:40:30.011275",
     "exception": false,
     "start_time": "2022-02-05T17:40:29.978500",
     "status": "completed"
    },
    "tags": []
   },
   "source": [
    "# Modeling"
   ]
  },
  {
   "cell_type": "code",
   "execution_count": 29,
   "metadata": {
    "execution": {
     "iopub.execute_input": "2022-02-05T17:40:30.082811Z",
     "iopub.status.busy": "2022-02-05T17:40:30.082118Z",
     "iopub.status.idle": "2022-02-05T17:40:30.186761Z",
     "shell.execute_reply": "2022-02-05T17:40:30.186259Z",
     "shell.execute_reply.started": "2022-02-05T17:23:40.404823Z"
    },
    "papermill": {
     "duration": 0.143096,
     "end_time": "2022-02-05T17:40:30.186898",
     "exception": false,
     "start_time": "2022-02-05T17:40:30.043802",
     "status": "completed"
    },
    "tags": []
   },
   "outputs": [],
   "source": [
    "X_train, X_valid, y_train, y_valid = train_test_split(X_1, y, test_size=0.2, shuffle=False)"
   ]
  },
  {
   "cell_type": "markdown",
   "metadata": {
    "papermill": {
     "duration": 0.032055,
     "end_time": "2022-02-05T17:40:30.251696",
     "exception": false,
     "start_time": "2022-02-05T17:40:30.219641",
     "status": "completed"
    },
    "tags": []
   },
   "source": [
    "For first we must learn a trend. LinearRegression is good to learn trend"
   ]
  },
  {
   "cell_type": "code",
   "execution_count": 30,
   "metadata": {
    "execution": {
     "iopub.execute_input": "2022-02-05T17:40:30.322101Z",
     "iopub.status.busy": "2022-02-05T17:40:30.321505Z",
     "iopub.status.idle": "2022-02-05T17:40:30.414593Z",
     "shell.execute_reply": "2022-02-05T17:40:30.413767Z",
     "shell.execute_reply.started": "2022-02-05T17:23:40.516458Z"
    },
    "papermill": {
     "duration": 0.13056,
     "end_time": "2022-02-05T17:40:30.414817",
     "exception": false,
     "start_time": "2022-02-05T17:40:30.284257",
     "status": "completed"
    },
    "tags": []
   },
   "outputs": [
    {
     "data": {
      "text/plain": [
       "LinearRegression(copy_X=True, fit_intercept=True, n_jobs=1, normalize=False)"
      ]
     },
     "execution_count": 30,
     "metadata": {},
     "output_type": "execute_result"
    }
   ],
   "source": [
    "modelL = LinearRegression()\n",
    "modelL.fit(X_train, y_train)"
   ]
  },
  {
   "cell_type": "code",
   "execution_count": 31,
   "metadata": {
    "execution": {
     "iopub.execute_input": "2022-02-05T17:40:30.529822Z",
     "iopub.status.busy": "2022-02-05T17:40:30.529238Z",
     "iopub.status.idle": "2022-02-05T17:40:30.547563Z",
     "shell.execute_reply": "2022-02-05T17:40:30.546991Z",
     "shell.execute_reply.started": "2022-02-05T17:23:40.611932Z"
    },
    "papermill": {
     "duration": 0.068226,
     "end_time": "2022-02-05T17:40:30.547691",
     "exception": false,
     "start_time": "2022-02-05T17:40:30.479465",
     "status": "completed"
    },
    "tags": []
   },
   "outputs": [],
   "source": [
    "y_pred = modelL.predict( X_train )\n",
    "y_pred_valid = modelL.predict( X_valid )"
   ]
  },
  {
   "cell_type": "markdown",
   "metadata": {
    "papermill": {
     "duration": 0.032162,
     "end_time": "2022-02-05T17:40:30.612324",
     "exception": false,
     "start_time": "2022-02-05T17:40:30.580162",
     "status": "completed"
    },
    "tags": []
   },
   "source": [
    "Next see on reduces"
   ]
  },
  {
   "cell_type": "code",
   "execution_count": 32,
   "metadata": {
    "execution": {
     "iopub.execute_input": "2022-02-05T17:40:30.680612Z",
     "iopub.status.busy": "2022-02-05T17:40:30.680069Z",
     "iopub.status.idle": "2022-02-05T17:40:30.694572Z",
     "shell.execute_reply": "2022-02-05T17:40:30.694013Z",
     "shell.execute_reply.started": "2022-02-05T17:23:40.649738Z"
    },
    "papermill": {
     "duration": 0.049997,
     "end_time": "2022-02-05T17:40:30.694696",
     "exception": false,
     "start_time": "2022-02-05T17:40:30.644699",
     "status": "completed"
    },
    "tags": []
   },
   "outputs": [
    {
     "data": {
      "text/plain": [
       "date\n",
       "2013-01-01   -184.324621\n",
       "2013-01-01   -184.324741\n",
       "2013-01-01   -184.324861\n",
       "2013-01-01   -184.324981\n",
       "2013-01-01   -184.325101\n",
       "                 ...    \n",
       "2016-09-12   -446.153770\n",
       "2016-09-12   -463.153890\n",
       "2016-09-12   -471.154009\n",
       "2016-09-12   -301.645129\n",
       "2016-09-12   -291.154249\n",
       "Name: sales, Length: 2400710, dtype: float64"
      ]
     },
     "execution_count": 32,
     "metadata": {},
     "output_type": "execute_result"
    }
   ],
   "source": [
    "y_train - y_pred"
   ]
  },
  {
   "cell_type": "code",
   "execution_count": 33,
   "metadata": {
    "execution": {
     "iopub.execute_input": "2022-02-05T17:40:30.766287Z",
     "iopub.status.busy": "2022-02-05T17:40:30.765610Z",
     "iopub.status.idle": "2022-02-05T17:40:30.780215Z",
     "shell.execute_reply": "2022-02-05T17:40:30.780611Z",
     "shell.execute_reply.started": "2022-02-05T17:23:40.678415Z"
    },
    "papermill": {
     "duration": 0.053006,
     "end_time": "2022-02-05T17:40:30.780783",
     "exception": false,
     "start_time": "2022-02-05T17:40:30.727777",
     "status": "completed"
    },
    "tags": []
   },
   "outputs": [
    {
     "data": {
      "text/plain": [
       "687.308811909713"
      ]
     },
     "execution_count": 33,
     "metadata": {},
     "output_type": "execute_result"
    }
   ],
   "source": [
    "mean_absolute_error(y_valid, modelL.predict(X_valid))"
   ]
  },
  {
   "cell_type": "code",
   "execution_count": 34,
   "metadata": {
    "execution": {
     "iopub.execute_input": "2022-02-05T17:40:30.852135Z",
     "iopub.status.busy": "2022-02-05T17:40:30.851483Z",
     "iopub.status.idle": "2022-02-05T17:40:31.327481Z",
     "shell.execute_reply": "2022-02-05T17:40:31.326630Z",
     "shell.execute_reply.started": "2022-02-05T17:23:40.711577Z"
    },
    "papermill": {
     "duration": 0.513775,
     "end_time": "2022-02-05T17:40:31.327645",
     "exception": false,
     "start_time": "2022-02-05T17:40:30.813870",
     "status": "completed"
    },
    "tags": []
   },
   "outputs": [],
   "source": [
    "X_train, X_valid, y_train, y_valid = train_test_split(X_2, y, test_size=0.2, shuffle=False)"
   ]
  },
  {
   "cell_type": "markdown",
   "metadata": {
    "papermill": {
     "duration": 0.032642,
     "end_time": "2022-02-05T17:40:31.393741",
     "exception": false,
     "start_time": "2022-02-05T17:40:31.361099",
     "status": "completed"
    },
    "tags": []
   },
   "source": [
    "Next we must learn this, that LinearRegression didn't learning with trend. XGBRegressor or other machine learning models is good idea"
   ]
  },
  {
   "cell_type": "markdown",
   "metadata": {
    "papermill": {
     "duration": 0.032894,
     "end_time": "2022-02-05T17:40:31.459609",
     "exception": false,
     "start_time": "2022-02-05T17:40:31.426715",
     "status": "completed"
    },
    "tags": []
   },
   "source": [
    "We will train XGBRegressor on LinearRegression's reduces"
   ]
  },
  {
   "cell_type": "code",
   "execution_count": 35,
   "metadata": {
    "execution": {
     "iopub.execute_input": "2022-02-05T17:40:31.528827Z",
     "iopub.status.busy": "2022-02-05T17:40:31.528290Z",
     "iopub.status.idle": "2022-02-05T17:41:30.717897Z",
     "shell.execute_reply": "2022-02-05T17:41:30.718410Z",
     "shell.execute_reply.started": "2022-02-05T17:23:41.186071Z"
    },
    "papermill": {
     "duration": 59.225771,
     "end_time": "2022-02-05T17:41:30.718583",
     "exception": false,
     "start_time": "2022-02-05T17:40:31.492812",
     "status": "completed"
    },
    "tags": []
   },
   "outputs": [
    {
     "data": {
      "text/plain": [
       "XGBRegressor(base_score=0.5, booster='gbtree', colsample_bylevel=1,\n",
       "       colsample_bynode=1, colsample_bytree=1, enable_categorical=False,\n",
       "       gamma=0, gpu_id=-1, importance_type=None,\n",
       "       interaction_constraints='', learning_rate=0.300000012,\n",
       "       max_delta_step=0, max_depth=6, min_child_weight=1, missing=nan,\n",
       "       monotone_constraints='()', n_estimators=20, n_jobs=8,\n",
       "       num_parallel_tree=1, objective='reg:squarederror', predictor='auto',\n",
       "       random_state=0, reg_alpha=0, reg_lambda=1, scale_pos_weight=1,\n",
       "       subsample=1, tree_method='exact', validate_parameters=1,\n",
       "       verbosity=None)"
      ]
     },
     "execution_count": 35,
     "metadata": {},
     "output_type": "execute_result"
    }
   ],
   "source": [
    "modelX = XGBRegressor(n_estimators=20)\n",
    "modelX.fit(X_train, y_train-y_pred)"
   ]
  },
  {
   "cell_type": "code",
   "execution_count": 36,
   "metadata": {
    "execution": {
     "iopub.execute_input": "2022-02-05T17:41:30.791742Z",
     "iopub.status.busy": "2022-02-05T17:41:30.790849Z",
     "iopub.status.idle": "2022-02-05T17:41:31.243988Z",
     "shell.execute_reply": "2022-02-05T17:41:31.243422Z",
     "shell.execute_reply.started": "2022-02-05T17:24:39.559700Z"
    },
    "papermill": {
     "duration": 0.491718,
     "end_time": "2022-02-05T17:41:31.244126",
     "exception": false,
     "start_time": "2022-02-05T17:41:30.752408",
     "status": "completed"
    },
    "tags": []
   },
   "outputs": [
    {
     "data": {
      "text/plain": [
       "483.1481862099756"
      ]
     },
     "execution_count": 36,
     "metadata": {},
     "output_type": "execute_result"
    }
   ],
   "source": [
    "mean_absolute_error(y_valid, modelX.predict(X_valid))"
   ]
  },
  {
   "cell_type": "markdown",
   "metadata": {
    "papermill": {
     "duration": 0.034604,
     "end_time": "2022-02-05T17:41:31.312469",
     "exception": false,
     "start_time": "2022-02-05T17:41:31.277865",
     "status": "completed"
    },
    "tags": []
   },
   "source": [
    "# Create a submission"
   ]
  },
  {
   "cell_type": "code",
   "execution_count": 37,
   "metadata": {
    "execution": {
     "iopub.execute_input": "2022-02-05T17:41:31.383846Z",
     "iopub.status.busy": "2022-02-05T17:41:31.383219Z",
     "iopub.status.idle": "2022-02-05T17:41:31.427413Z",
     "shell.execute_reply": "2022-02-05T17:41:31.427888Z",
     "shell.execute_reply.started": "2022-02-05T17:26:43.144927Z"
    },
    "papermill": {
     "duration": 0.080667,
     "end_time": "2022-02-05T17:41:31.428082",
     "exception": false,
     "start_time": "2022-02-05T17:41:31.347415",
     "status": "completed"
    },
    "tags": []
   },
   "outputs": [],
   "source": [
    "import warnings\n",
    "warnings.filterwarnings('ignore')\n",
    "\n",
    "preds = []\n",
    "\n",
    "for i in range(1):\n",
    "    y_pred = modelL.predict(pd.DataFrame(X_test.trend))\n",
    "\n",
    "    y_pred += modelX.predict(X_test.drop(\"trend\", axis=1))\n",
    "    \n",
    "    X_test[\"Lag_4\"][i] = y[-4]\n",
    "    X_test[\"Lag_5\"][i] = y[-5]\n",
    "    X_test[\"Lag_6\"][i] = y[-6]\n",
    "    \n",
    "    preds.append(y_pred)"
   ]
  },
  {
   "cell_type": "code",
   "execution_count": 38,
   "metadata": {
    "execution": {
     "iopub.execute_input": "2022-02-05T17:41:31.499312Z",
     "iopub.status.busy": "2022-02-05T17:41:31.498455Z",
     "iopub.status.idle": "2022-02-05T17:41:31.503943Z",
     "shell.execute_reply": "2022-02-05T17:41:31.503496Z",
     "shell.execute_reply.started": "2022-02-05T17:26:48.298524Z"
    },
    "papermill": {
     "duration": 0.042259,
     "end_time": "2022-02-05T17:41:31.504081",
     "exception": false,
     "start_time": "2022-02-05T17:41:31.461822",
     "status": "completed"
    },
    "tags": []
   },
   "outputs": [
    {
     "data": {
      "text/plain": [
       "[array([125.56425864, 125.56437854, 260.42924453, ..., 651.62057261,\n",
       "        328.63586737, 133.54422091])]"
      ]
     },
     "execution_count": 38,
     "metadata": {},
     "output_type": "execute_result"
    }
   ],
   "source": [
    "preds"
   ]
  },
  {
   "cell_type": "code",
   "execution_count": 39,
   "metadata": {
    "execution": {
     "iopub.execute_input": "2022-02-05T17:41:31.575744Z",
     "iopub.status.busy": "2022-02-05T17:41:31.574866Z",
     "iopub.status.idle": "2022-02-05T17:41:31.768682Z",
     "shell.execute_reply": "2022-02-05T17:41:31.768183Z",
     "shell.execute_reply.started": "2022-02-05T17:39:42.287145Z"
    },
    "papermill": {
     "duration": 0.23079,
     "end_time": "2022-02-05T17:41:31.768817",
     "exception": false,
     "start_time": "2022-02-05T17:41:31.538027",
     "status": "completed"
    },
    "tags": []
   },
   "outputs": [],
   "source": [
    "df = pd.DataFrame({\n",
    "    \"id\": X_test.trend.astype(np.int32)-1,\n",
    "    \"sales\": preds[0]\n",
    "})\n",
    "\n",
    "df.to_csv(\"submission.csv\", index=False)"
   ]
  },
  {
   "cell_type": "code",
   "execution_count": 40,
   "metadata": {
    "execution": {
     "iopub.execute_input": "2022-02-05T17:41:31.842178Z",
     "iopub.status.busy": "2022-02-05T17:41:31.841538Z",
     "iopub.status.idle": "2022-02-05T17:41:31.858859Z",
     "shell.execute_reply": "2022-02-05T17:41:31.858418Z",
     "shell.execute_reply.started": "2022-02-05T17:39:43.794491Z"
    },
    "papermill": {
     "duration": 0.056204,
     "end_time": "2022-02-05T17:41:31.859018",
     "exception": false,
     "start_time": "2022-02-05T17:41:31.802814",
     "status": "completed"
    },
    "tags": []
   },
   "outputs": [
    {
     "data": {
      "text/html": [
       "<div>\n",
       "<style scoped>\n",
       "    .dataframe tbody tr th:only-of-type {\n",
       "        vertical-align: middle;\n",
       "    }\n",
       "\n",
       "    .dataframe tbody tr th {\n",
       "        vertical-align: top;\n",
       "    }\n",
       "\n",
       "    .dataframe thead th {\n",
       "        text-align: right;\n",
       "    }\n",
       "</style>\n",
       "<table border=\"1\" class=\"dataframe\">\n",
       "  <thead>\n",
       "    <tr style=\"text-align: right;\">\n",
       "      <th></th>\n",
       "      <th>id</th>\n",
       "      <th>sales</th>\n",
       "    </tr>\n",
       "  </thead>\n",
       "  <tbody>\n",
       "    <tr>\n",
       "      <th>0</th>\n",
       "      <td>3000888</td>\n",
       "      <td>125.564259</td>\n",
       "    </tr>\n",
       "    <tr>\n",
       "      <th>1</th>\n",
       "      <td>3000889</td>\n",
       "      <td>125.564379</td>\n",
       "    </tr>\n",
       "    <tr>\n",
       "      <th>2</th>\n",
       "      <td>3000890</td>\n",
       "      <td>260.429245</td>\n",
       "    </tr>\n",
       "    <tr>\n",
       "      <th>3</th>\n",
       "      <td>3000891</td>\n",
       "      <td>2106.577924</td>\n",
       "    </tr>\n",
       "    <tr>\n",
       "      <th>4</th>\n",
       "      <td>3000892</td>\n",
       "      <td>125.564738</td>\n",
       "    </tr>\n",
       "    <tr>\n",
       "      <th>...</th>\n",
       "      <td>...</td>\n",
       "      <td>...</td>\n",
       "    </tr>\n",
       "    <tr>\n",
       "      <th>28507</th>\n",
       "      <td>3029395</td>\n",
       "      <td>243.565439</td>\n",
       "    </tr>\n",
       "    <tr>\n",
       "      <th>28508</th>\n",
       "      <td>3029396</td>\n",
       "      <td>165.409553</td>\n",
       "    </tr>\n",
       "    <tr>\n",
       "      <th>28509</th>\n",
       "      <td>3029397</td>\n",
       "      <td>651.620573</td>\n",
       "    </tr>\n",
       "    <tr>\n",
       "      <th>28510</th>\n",
       "      <td>3029398</td>\n",
       "      <td>328.635867</td>\n",
       "    </tr>\n",
       "    <tr>\n",
       "      <th>28511</th>\n",
       "      <td>3029399</td>\n",
       "      <td>133.544221</td>\n",
       "    </tr>\n",
       "  </tbody>\n",
       "</table>\n",
       "<p>28512 rows × 2 columns</p>\n",
       "</div>"
      ],
      "text/plain": [
       "            id        sales\n",
       "0      3000888   125.564259\n",
       "1      3000889   125.564379\n",
       "2      3000890   260.429245\n",
       "3      3000891  2106.577924\n",
       "4      3000892   125.564738\n",
       "...        ...          ...\n",
       "28507  3029395   243.565439\n",
       "28508  3029396   165.409553\n",
       "28509  3029397   651.620573\n",
       "28510  3029398   328.635867\n",
       "28511  3029399   133.544221\n",
       "\n",
       "[28512 rows x 2 columns]"
      ]
     },
     "execution_count": 40,
     "metadata": {},
     "output_type": "execute_result"
    }
   ],
   "source": [
    "pd.read_csv(\"./submission.csv\")"
   ]
  },
  {
   "cell_type": "code",
   "execution_count": null,
   "metadata": {
    "papermill": {
     "duration": 0.037289,
     "end_time": "2022-02-05T17:41:31.932724",
     "exception": false,
     "start_time": "2022-02-05T17:41:31.895435",
     "status": "completed"
    },
    "tags": []
   },
   "outputs": [],
   "source": []
  }
 ],
 "metadata": {
  "kernelspec": {
   "display_name": "Python 3",
   "language": "python",
   "name": "python3"
  },
  "language_info": {
   "codemirror_mode": {
    "name": "ipython",
    "version": 3
   },
   "file_extension": ".py",
   "mimetype": "text/x-python",
   "name": "python",
   "nbconvert_exporter": "python",
   "pygments_lexer": "ipython3",
   "version": "3.6.5"
  },
  "papermill": {
   "default_parameters": {},
   "duration": 87.574699,
   "end_time": "2022-02-05T17:41:32.778857",
   "environment_variables": {},
   "exception": null,
   "input_path": "__notebook__.ipynb",
   "output_path": "__notebook__.ipynb",
   "parameters": {},
   "start_time": "2022-02-05T17:40:05.204158",
   "version": "2.3.3"
  }
 },
 "nbformat": 4,
 "nbformat_minor": 5
}
